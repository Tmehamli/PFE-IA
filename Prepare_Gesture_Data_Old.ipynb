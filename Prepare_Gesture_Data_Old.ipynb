{
 "cells": [
  {
   "cell_type": "code",
   "execution_count": 1,
   "metadata": {},
   "outputs": [],
   "source": [
    "import os\n",
    "import numpy as np\n",
    "import pandas as pd\n",
    "import csv \n",
    "from python_linq import From"
   ]
  },
  {
   "cell_type": "code",
   "execution_count": 3,
   "metadata": {},
   "outputs": [],
   "source": [
    "default_path = 'data/'\n",
    "seed = 42\n",
    "np.random.seed(seed=seed)"
   ]
  },
  {
   "cell_type": "code",
   "execution_count": 4,
   "metadata": {},
   "outputs": [],
   "source": [
    "def load_data(path):\n",
    "    all_files = os.listdir(path)\n",
    "    files_to_load = From(all_files).where(lambda file: file[-3:]=='csv').where(lambda file: file[-5]=='w').toList()\n",
    "    df_Big = pd.read_csv(path + files_to_load[0], sep=',')\n",
    "    for file in files_to_load[1:]:\n",
    "        df_file = pd.read_csv(path + file, sep=',')\n",
    "        df_Big = df_Big.append(df_file)\n",
    "    df_Big = df_Big.loc[df_Big['phase']!='Preparação']\n",
    "    return df_Big\n",
    "\n",
    "#print(default_path)\n",
    "dataFrames = load_data(default_path)"
   ]
  },
  {
   "cell_type": "code",
   "execution_count": 51,
   "metadata": {
    "scrolled": true
   },
   "outputs": [],
   "source": [
    "def truncate(df):\n",
    "    k = 0\n",
    "    nb_rows = df.shape[0]\n",
    "    df_to_fill = pd.DataFrame(columns=df.columns.values.tolist())\n",
    "    while k < nb_rows:    \n",
    "        row_considered = df.iloc[[k]]\n",
    "        phase_considered = row_considered['phase'].values.tolist()[0]\n",
    "        phase_tmp = phase_considered\n",
    "        #print(phase_considered)\n",
    "        #print(phase_tmp)\n",
    "        i = 0\n",
    "        while phase_tmp == phase_considered and i<30:\n",
    "            if k + i + 1 < nb_rows:\n",
    "                # Verifying if there is a next value\n",
    "                i += 1\n",
    "                phase_tmp = df.iloc[[i+k]]['phase'].values.tolist()[0]\n",
    "            else:\n",
    "                # End of while\n",
    "                break\n",
    "        if i > 7:\n",
    "            # Add the row considered            \n",
    "            df_to_fill = df_to_fill.append(row_considered)            \n",
    "        if k + i + 1 < nb_rows:\n",
    "            k += i\n",
    "        else:\n",
    "            # End of the dataframe\n",
    "            break\n",
    "    df_to_fill = df_to_fill.reset_index(drop=True)\n",
    "    return df_to_fill\n",
    "df_truncated = truncate(dataFrames)\n",
    "#print(df_truncated.shape)\n",
    "#print([df_truncated['phase'].loc[lambda phase: phase==header].count() for header in headers])\n",
    "#print(df_truncated)"
   ]
  },
  {
   "cell_type": "code",
   "execution_count": 62,
   "metadata": {},
   "outputs": [
    {
     "name": "stdout",
     "output_type": "stream",
     "text": [
      "         lhx       lhy       lhz       rhx       rhy       rhz        hx  \\\n",
      "0   5.347435  4.363681  1.501913  5.258967  4.319263  1.488703  5.037871   \n",
      "1   5.172760  4.298170  1.539378  4.893166  4.127115  1.504976  5.071796   \n",
      "2   4.900373  4.314654  1.532006  5.212985  4.360328  1.532850  4.884282   \n",
      "3   5.289511  4.358406  1.476023  4.891308  4.393458  1.453153  4.857494   \n",
      "4   5.789842  4.358591  1.487661  5.622225  4.350234  1.522800  5.605544   \n",
      "5   5.345129  4.317538  1.465412  4.721994  4.297646  1.451881  5.087587   \n",
      "6   5.096925  2.944271  1.468542  4.497191  3.282783  1.486971  5.052908   \n",
      "7   1.949195  3.068057  1.618176  8.121232  3.042955  1.561836  5.051782   \n",
      "8   1.869804  3.141209  1.648593  8.193642  3.025331  1.563771  5.026466   \n",
      "9   3.443496  2.732906  1.590476  6.326015  3.613825  1.537438  4.990195   \n",
      "10  4.475778  4.291564  1.391710  5.865720  3.117244  1.519287  5.033069   \n",
      "11  4.303857  4.238627  1.399027  5.785729  3.177190  1.505468  5.068440   \n",
      "12  4.644403  3.543943  1.470490  5.929465  4.296041  1.403930  5.200212   \n",
      "13  4.547340  4.352549  1.454148  5.740839  4.122935  1.459882  5.220453   \n",
      "14  4.585266  4.266777  1.479958  5.729389  4.052400  1.473050  5.201936   \n",
      "15  4.967554  3.748463  1.517070  4.528746  3.624910  1.468794  4.905929   \n",
      "16  5.152316  3.728621  1.536954  4.906152  4.362710  1.544107  4.931866   \n",
      "17  3.364605  2.188952  1.636700  7.073656  2.106393  1.711642  5.144942   \n",
      "18  3.346799  2.259089  1.637492  7.073524  2.151874  1.710528  5.100195   \n",
      "19  5.235381  3.599986  1.471026  5.054235  3.569833  1.476664  5.077380   \n",
      "20  5.551727  4.258776  1.515576  5.576650  4.084794  1.508740  5.302330   \n",
      "21  5.461727  4.071301  1.506917  5.068037  4.087016  1.461289  5.429351   \n",
      "22  5.040577  4.001192  1.519840  4.800228  4.020771  1.470446  4.999137   \n",
      "23  3.948896  4.800511  1.493094  6.196090  4.592938  1.457566  5.006135   \n",
      "24  3.442488  4.583660  1.495654  6.435433  4.500705  1.417185  5.019165   \n",
      "25  3.643264  2.527081  1.570871  6.608366  2.559464  1.551075  5.033354   \n",
      "26  3.575167  2.216213  1.561998  6.397848  2.311728  1.557802  5.166461   \n",
      "27  5.373046  3.585271  1.483339  5.354073  3.543955  1.481344  5.146647   \n",
      "28  4.962257  4.240879  1.579513  4.884865  4.300548  1.579752  5.370524   \n",
      "29  4.846982  5.295984  1.531406  5.037443  5.325436  1.502893  5.281132   \n",
      "30  4.783814  5.280938  1.466759  4.925314  5.336452  1.455809  5.050091   \n",
      "31  5.020871  5.278275  1.470331  4.934244  5.041582  1.478286  5.505169   \n",
      "32  4.887948  5.120888  1.479750  4.980478  5.120220  1.468566  5.539417   \n",
      "33  5.008772  5.251095  1.473650  7.135568  2.988003  1.525280  4.956832   \n",
      "34  3.873960  5.047403  1.602670  3.909283  2.716536  1.528695  4.635736   \n",
      "35  5.246645  5.018394  1.448601  7.175359  2.695879  1.532817  5.235166   \n",
      "36  4.658780  4.917480  1.477232  4.161970  2.854564  1.477969  4.452646   \n",
      "37  4.682645  4.751223  1.466527  6.667132  2.409641  1.566973  5.030435   \n",
      "38  4.675184  4.595942  1.493635  5.412169  4.035929  1.443627  5.129780   \n",
      "39  4.699727  5.019063  1.491071  4.734796  5.079324  1.468634  5.160435   \n",
      "\n",
      "          hy        hz        sx        sy        sz       lwx       lwy  \\\n",
      "0   1.618295  1.778350  5.062803  4.229656  1.772577  4.972902  4.301065   \n",
      "1   1.631903  1.778119  5.066057  4.221742  1.777657  5.041100  4.283473   \n",
      "2   1.683680  1.748383  4.972571  4.251198  1.763997  4.882160  4.306127   \n",
      "3   1.709789  1.721112  4.938700  4.259012  1.745410  4.914030  4.314608   \n",
      "4   1.673278  1.761996  5.548597  4.259732  1.760088  5.450133  4.303673   \n",
      "5   1.633662  1.754188  5.063965  4.234758  1.755515  4.982277  4.268163   \n",
      "6   1.611426  1.766621  5.066699  4.253487  1.756074  4.755608  3.186435   \n",
      "7   1.730986  1.739291  5.046826  4.238456  1.762223  2.069545  3.267919   \n",
      "8   1.767580  1.733281  5.050979  4.236656  1.762721  1.980131  3.326239   \n",
      "9   1.713435  1.739535  5.045925  4.234206  1.762932  3.439939  2.945704   \n",
      "10  1.645361  1.737066  5.048114  4.274585  1.747148  4.339439  4.370917   \n",
      "11  1.716039  1.723401  5.111934  4.299991  1.740933  4.222870  4.189898   \n",
      "12  1.800327  1.693143  5.194838  4.305565  1.725947  4.735912  3.576326   \n",
      "13  1.782329  1.695878  5.203493  4.299921  1.724204  4.606534  4.329511   \n",
      "14  1.727594  1.717013  5.176577  4.276396  1.731009  4.580770  4.194449   \n",
      "15  1.686561  1.742707  4.891344  4.258068  1.752278  5.075372  4.032976   \n",
      "16  1.682428  1.749899  4.909644  4.252894  1.756037  4.790311  3.817086   \n",
      "17  1.590474  1.745567  5.094989  4.098779  1.751858  3.253237  2.081138   \n",
      "18  1.631958  1.737349  5.117525  4.111066  1.741814  3.441833  2.139212   \n",
      "19  1.683882  1.737487  5.096078  4.311500  1.731326  5.285814  3.873209   \n",
      "20  1.706346  1.729785  5.428679  4.215703  1.742432  5.163239  4.322625   \n",
      "21  1.661023  1.722511  5.430837  4.179606  1.743838  5.398838  4.061624   \n",
      "22  1.634525  1.744686  4.982685  4.174122  1.758522  4.946693  4.023695   \n",
      "23  1.639897  1.741684  5.052207  4.205693  1.747236  3.908312  4.576471   \n",
      "24  1.826057  1.711583  5.092741  4.259376  1.751492  3.483290  4.490148   \n",
      "25  1.784692  1.682735  5.107702  4.223730  1.716652  3.638053  2.583265   \n",
      "26  1.648894  1.742296  5.088765  4.184264  1.731593  3.592314  2.369563   \n",
      "27  1.432688  1.783051  5.179035  4.153939  1.738099  4.385754  3.821081   \n",
      "28  1.590576  1.823955  5.204426  4.235103  1.811854  4.905183  4.212357   \n",
      "29  1.677029  1.795998  5.219146  4.318119  1.772615  4.583822  5.042058   \n",
      "30  1.641893  1.752577  5.023076  4.338999  1.722197  4.528697  5.021953   \n",
      "31  1.655146  1.754285  5.354604  4.356940  1.711237  4.751371  5.017719   \n",
      "32  1.655682  1.752045  5.426072  4.365833  1.708927  4.715264  5.007158   \n",
      "33  1.628721  1.768152  5.153244  4.279148  1.732986  4.793721  5.002759   \n",
      "34  1.607177  1.769053  4.758089  4.381066  1.734502  3.808649  4.765076   \n",
      "35  1.620246  1.780436  5.324505  4.263941  1.752263  4.977273  4.807664   \n",
      "36  1.640155  1.761005  4.880731  4.282231  1.738628  4.498374  4.829346   \n",
      "37  1.646945  1.754513  5.139673  4.293899  1.731284  4.539667  4.634657   \n",
      "38  1.610300  1.766469  5.149526  4.265504  1.739058  4.613173  4.562933   \n",
      "39  1.659650  1.766750  5.085351  4.317208  1.734591  4.362434  4.945713   \n",
      "\n",
      "         lwz       rwx       rwy       rwz  timestamp        phase  \n",
      "0   1.564781  5.553945  4.370456  1.553521  5702026.0         Rest  \n",
      "1   1.570386  5.101995  4.275612  1.545337  5703259.0         Rest  \n",
      "2   1.559754  5.195107  4.343143  1.542306  5704366.0         Rest  \n",
      "3   1.537587  5.179287  4.325715  1.517558  5705474.0         Rest  \n",
      "4   1.556283  5.478700  4.317029  1.536310  5706550.0         Rest  \n",
      "5   1.528716  5.069775  4.253269  1.518624  5707970.0  Preparation  \n",
      "6   1.509203  4.881498  3.392532  1.523700  5708391.0       Stroke  \n",
      "7   1.639078  8.026691  3.248826  1.590266  5709296.0         Hold  \n",
      "8   1.664725  8.075768  3.247705  1.598105  5709920.0  Preparation  \n",
      "9   1.601051  6.430479  3.826365  1.604134  5710435.0       Stroke  \n",
      "10  1.415397  5.835181  3.207850  1.514393  5711449.0       Stroke  \n",
      "11  1.444414  5.773910  3.262717  1.497805  5712588.0       Stroke  \n",
      "12  1.448694  6.010986  4.253384  1.448031  5713446.0   Retraction  \n",
      "13  1.453308  5.736505  4.137982  1.458670  5713867.0         Rest  \n",
      "14  1.480091  5.484085  3.659444  1.410405  5714226.0  Preparation  \n",
      "15  1.596652  4.861096  3.762941  1.531570  5715224.0         Hold  \n",
      "16  1.570414  5.213020  4.278746  1.574554  5715567.0       Stroke  \n",
      "17  1.614626  6.859790  1.844457  1.703877  5716176.0         Hold  \n",
      "18  1.629643  6.801356  1.902031  1.710840  5716566.0   Retraction  \n",
      "19  1.503877  4.911345  3.791246  1.513937  5717720.0         Rest  \n",
      "20  1.553206  5.477768  4.145972  1.523574  5718796.0         Rest  \n",
      "21  1.519806  5.407284  4.097086  1.521156  5719904.0         Rest  \n",
      "22  1.536385  5.104485  4.030549  1.542498  5721043.0  Preparation  \n",
      "23  1.538775  6.177263  4.556996  1.478975  5721417.0       Stroke  \n",
      "24  1.501177  6.421120  4.419366  1.438660  5722540.0       Stroke  \n",
      "25  1.569520  6.601046  2.563871  1.551545  5723632.0       Stroke  \n",
      "26  1.564140  6.528536  2.735651  1.575513  5724912.0   Retraction  \n",
      "27  1.488058  5.500921  3.786526  1.529124  5726066.0   Retraction  \n",
      "28  1.603873  5.104854  4.272171  1.611109  5727080.0   Retraction  \n",
      "29  1.578078  5.193169  5.030004  1.555686  5727564.0         Rest  \n",
      "30  1.514153  4.966774  5.073677  1.491646  5728656.0         Rest  \n",
      "31  1.514086  5.228844  5.168409  1.479586  5729748.0         Rest  \n",
      "32  1.528837  5.548554  4.940999  1.507356  5730543.0  Preparation  \n",
      "33  1.518312  6.990087  3.379348  1.570681  5731276.0       Stroke  \n",
      "34  1.640576  3.963918  3.016514  1.509204  5732306.0       Stroke  \n",
      "35  1.511436  7.139146  2.810164  1.502842  5733429.0       Stroke  \n",
      "36  1.516664  4.833003  3.235105  1.492106  5734490.0       Stroke  \n",
      "37  1.496393  6.650652  2.831250  1.548334  5735270.0   Retraction  \n",
      "38  1.505665  5.221807  4.437139  1.488294  5735676.0         Rest  \n",
      "39  1.543102  4.919822  4.987374  1.493256  5736752.0         Rest  \n"
     ]
    }
   ],
   "source": [
    "def creat_missing_values(df, nb_rows_to_del=1):\n",
    "    nb_rows = df.shape[0]\n",
    "    nb_columns = df.shape[1]\n",
    "    index_still = np.arange(nb_rows)\n",
    "    #print(index_still)\n",
    "    df_copy = df.copy()\n",
    "    if nb_rows_to_del < nb_rows:\n",
    "        while nb_rows-len(index_still)<nb_rows_to_del:\n",
    "            index_del = np.random.randint(len(index_still)-1)\n",
    "            timestamp_saved = df.iloc[index_del].__getitem__('timestamp')\n",
    "            #print(timestamp_saved)\n",
    "            df_copy.iloc[index_del] = [np.nan for i in range(nb_columns)]\n",
    "            #print(df_copy.iloc[index_del])\n",
    "            df_copy.loc[index_del, 'timestamp'] = timestamp_saved\n",
    "            #print(df_copy.iloc[index_del])\n",
    "            index_still = np.delete(index_still,index_del)\n",
    "    return df_copy\n",
    "df_copy = creat_missing_values(df_truncated, 5)\n",
    "#print(df_truncated.shape)\n",
    "print(df_copy.head(40))"
   ]
  },
  {
   "cell_type": "code",
   "execution_count": 68,
   "metadata": {},
   "outputs": [
    {
     "ename": "ValueError",
     "evalue": "No axis named lhx for object type <class 'type'>",
     "output_type": "error",
     "traceback": [
      "\u001b[1;31m---------------------------------------------------------------------------\u001b[0m",
      "\u001b[1;31mValueError\u001b[0m                                Traceback (most recent call last)",
      "\u001b[1;32m<ipython-input-68-cb129f8a8941>\u001b[0m in \u001b[0;36m<module>\u001b[1;34m\u001b[0m\n\u001b[1;32m----> 1\u001b[1;33m \u001b[0mdf_copy\u001b[0m\u001b[1;33m.\u001b[0m\u001b[0misna\u001b[0m\u001b[1;33m(\u001b[0m\u001b[1;33m)\u001b[0m\u001b[1;33m.\u001b[0m\u001b[0mcount\u001b[0m\u001b[1;33m(\u001b[0m\u001b[1;34m'lhx'\u001b[0m\u001b[1;33m)\u001b[0m\u001b[1;33m\u001b[0m\u001b[1;33m\u001b[0m\u001b[0m\n\u001b[0m",
      "\u001b[1;32mD:\\Program Files\\Nouveau dossier\\lib\\site-packages\\pandas\\core\\frame.py\u001b[0m in \u001b[0;36mcount\u001b[1;34m(self, axis, level, numeric_only)\u001b[0m\n\u001b[0;32m   7314\u001b[0m         \u001b[0mMyla\u001b[0m      \u001b[1;36m1\u001b[0m\u001b[1;33m\u001b[0m\u001b[1;33m\u001b[0m\u001b[0m\n\u001b[0;32m   7315\u001b[0m         \"\"\"\n\u001b[1;32m-> 7316\u001b[1;33m         \u001b[0maxis\u001b[0m \u001b[1;33m=\u001b[0m \u001b[0mself\u001b[0m\u001b[1;33m.\u001b[0m\u001b[0m_get_axis_number\u001b[0m\u001b[1;33m(\u001b[0m\u001b[0maxis\u001b[0m\u001b[1;33m)\u001b[0m\u001b[1;33m\u001b[0m\u001b[1;33m\u001b[0m\u001b[0m\n\u001b[0m\u001b[0;32m   7317\u001b[0m         \u001b[1;32mif\u001b[0m \u001b[0mlevel\u001b[0m \u001b[1;32mis\u001b[0m \u001b[1;32mnot\u001b[0m \u001b[1;32mNone\u001b[0m\u001b[1;33m:\u001b[0m\u001b[1;33m\u001b[0m\u001b[1;33m\u001b[0m\u001b[0m\n\u001b[0;32m   7318\u001b[0m             return self._count_level(level, axis=axis,\n",
      "\u001b[1;32mD:\\Program Files\\Nouveau dossier\\lib\\site-packages\\pandas\\core\\generic.py\u001b[0m in \u001b[0;36m_get_axis_number\u001b[1;34m(cls, axis)\u001b[0m\n\u001b[0;32m    359\u001b[0m                 \u001b[1;32mpass\u001b[0m\u001b[1;33m\u001b[0m\u001b[1;33m\u001b[0m\u001b[0m\n\u001b[0;32m    360\u001b[0m         raise ValueError('No axis named {0} for object type {1}'\n\u001b[1;32m--> 361\u001b[1;33m                          .format(axis, type(cls)))\n\u001b[0m\u001b[0;32m    362\u001b[0m \u001b[1;33m\u001b[0m\u001b[0m\n\u001b[0;32m    363\u001b[0m     \u001b[1;33m@\u001b[0m\u001b[0mclassmethod\u001b[0m\u001b[1;33m\u001b[0m\u001b[1;33m\u001b[0m\u001b[0m\n",
      "\u001b[1;31mValueError\u001b[0m: No axis named lhx for object type <class 'type'>"
     ]
    }
   ],
   "source": [
    "df_copy.isna().count('lhx')"
   ]
  },
  {
   "cell_type": "code",
   "execution_count": 45,
   "metadata": {},
   "outputs": [
    {
     "name": "stdout",
     "output_type": "stream",
     "text": [
      "5702026\n",
      "    0   hx   hy   hz  lhx  lhy  lhz  lwx  lwy  lwz  ...  rhx  rhy  rhz  rwx  \\\n",
      "0 NaN  NaN  NaN  NaN  NaN  NaN  NaN  NaN  NaN  NaN  ...  NaN  NaN  NaN  NaN   \n",
      "\n",
      "   rwy  rwz   sx   sy   sz timestamp  \n",
      "0  NaN  NaN  NaN  NaN  NaN   5702026  \n",
      "\n",
      "[1 rows x 21 columns]\n"
     ]
    }
   ],
   "source": [
    "timestamp_saved = df_truncated.iloc[0].__getitem__('timestamp')\n",
    "print(timestamp_saved)\n",
    "df_nan = pd.DataFrame(columns=df_truncated.columns.values.tolist())\n",
    "\n",
    "df_nan = df_nan.append([np.nan])\n",
    "df_nan.loc[0,'timestamp'] = timestamp_saved\n",
    "print(df_nan)"
   ]
  },
  {
   "cell_type": "code",
   "execution_count": 41,
   "metadata": {},
   "outputs": [
    {
     "data": {
      "text/plain": [
       "'Rest'"
      ]
     },
     "execution_count": 41,
     "metadata": {},
     "output_type": "execute_result"
    }
   ],
   "source": [
    "df_truncated.iloc[0].__getitem__('phase')\n"
   ]
  },
  {
   "cell_type": "code",
   "execution_count": null,
   "metadata": {},
   "outputs": [],
   "source": []
  },
  {
   "cell_type": "code",
   "execution_count": null,
   "metadata": {},
   "outputs": [],
   "source": []
  },
  {
   "cell_type": "code",
   "execution_count": null,
   "metadata": {},
   "outputs": [],
   "source": []
  },
  {
   "cell_type": "code",
   "execution_count": null,
   "metadata": {},
   "outputs": [],
   "source": [
    "keys = ['lhx', 'lhy', 'lhz', 'rhx', 'rhy', 'rhz', 'hx', 'hy', 'hz', 'sx', 'sy', 'sz', 'lwx', 'lwy', 'lwz', 'rwx', 'rwy', 'rwz', 'timestamp', 'phase']\n",
    "input_keys = ['lhx', 'lhy', 'lhz', 'rhx', 'rhy', 'rhz', 'hx', 'hy', 'hz', 'sx', 'sy', 'sz', 'lwx', 'lwy', 'lwz', 'rwx', 'rwy', 'rwz']\n",
    "timestamp_key = 'timestamp'"
   ]
  },
  {
   "cell_type": "code",
   "execution_count": null,
   "metadata": {},
   "outputs": [],
   "source": []
  },
  {
   "cell_type": "code",
   "execution_count": null,
   "metadata": {},
   "outputs": [],
   "source": []
  },
  {
   "cell_type": "markdown",
   "metadata": {},
   "source": [
    "TODO:\n",
    "Concatenate all datas,\n",
    "truncate in this dataset,\n",
    "make random missing data\n",
    "\n",
    "Run.py : training / test"
   ]
  },
  {
   "cell_type": "code",
   "execution_count": 20,
   "metadata": {},
   "outputs": [],
   "source": [
    "timestamp = df_Big['timestamp']\n",
    "processed_data = {\n",
    "    'input': [],\n",
    "    'masking': []\n",
    "}\n",
    "n = len(timestamp)"
   ]
  },
  {
   "cell_type": "code",
   "execution_count": null,
   "metadata": {},
   "outputs": [],
   "source": [
    "def creat_mask(timestamp, input_data):\n",
    "    "
   ]
  },
  {
   "cell_type": "code",
   "execution_count": 21,
   "metadata": {},
   "outputs": [
    {
     "data": {
      "text/plain": [
       "0       5702026\n",
       "1       5702058\n",
       "2       5702089\n",
       "3       5702120\n",
       "4       5702167\n",
       "         ...   \n",
       "1742    5807375\n",
       "1743    5807406\n",
       "1744    5807437\n",
       "1745    5807499\n",
       "1746    5807537\n",
       "Name: timestamp, Length: 1747, dtype: int64"
      ]
     },
     "execution_count": 21,
     "metadata": {},
     "output_type": "execute_result"
    }
   ],
   "source": [
    "timestamp"
   ]
  }
 ],
 "metadata": {
  "kernelspec": {
   "display_name": "Python 3",
   "language": "python",
   "name": "python3"
  },
  "language_info": {
   "codemirror_mode": {
    "name": "ipython",
    "version": 3
   },
   "file_extension": ".py",
   "mimetype": "text/x-python",
   "name": "python",
   "nbconvert_exporter": "python",
   "pygments_lexer": "ipython3",
   "version": "3.7.3"
  }
 },
 "nbformat": 4,
 "nbformat_minor": 2
}
