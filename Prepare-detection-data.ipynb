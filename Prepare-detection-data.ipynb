{
 "cells": [
  {
   "cell_type": "code",
   "execution_count": 1,
   "metadata": {},
   "outputs": [],
   "source": [
    "import os\n",
    "import numpy as np\n",
    "import pandas as pd\n",
    "import csv \n",
    "import json\n",
    "from pandas.io.json import json_normalize\n"
   ]
  },
  {
   "cell_type": "code",
   "execution_count": 2,
   "metadata": {},
   "outputs": [],
   "source": [
    "default_path = 'LSC/'\n",
    "seed = 42\n",
    "np.random.seed(seed=seed)"
   ]
  },
  {
   "cell_type": "code",
   "execution_count": 3,
   "metadata": {
    "scrolled": false
   },
   "outputs": [
    {
     "name": "stdout",
     "output_type": "stream",
     "text": [
      "['full_dataset_annotation.json']\n"
     ]
    },
    {
     "data": {
      "text/html": [
       "<div>\n",
       "<style scoped>\n",
       "    .dataframe tbody tr th:only-of-type {\n",
       "        vertical-align: middle;\n",
       "    }\n",
       "\n",
       "    .dataframe tbody tr th {\n",
       "        vertical-align: top;\n",
       "    }\n",
       "\n",
       "    .dataframe thead th {\n",
       "        text-align: right;\n",
       "    }\n",
       "</style>\n",
       "<table border=\"1\" class=\"dataframe\">\n",
       "  <thead>\n",
       "    <tr style=\"text-align: right;\">\n",
       "      <th></th>\n",
       "      <th>2016-08-15 00:00:00</th>\n",
       "      <th>2016-08-16 00:00:00</th>\n",
       "      <th>2016-08-17 00:00:00</th>\n",
       "      <th>2016-08-18 00:00:00</th>\n",
       "      <th>2016-08-19 00:00:00</th>\n",
       "      <th>2016-08-20 00:00:00</th>\n",
       "      <th>2016-08-21 00:00:00</th>\n",
       "      <th>2016-08-22 00:00:00</th>\n",
       "      <th>2016-08-23 00:00:00</th>\n",
       "      <th>2016-08-24 00:00:00</th>\n",
       "      <th>...</th>\n",
       "      <th>2016-09-01 00:00:00</th>\n",
       "      <th>2016-09-02 00:00:00</th>\n",
       "      <th>2016-09-03 00:00:00</th>\n",
       "      <th>2016-09-04 00:00:00</th>\n",
       "      <th>2016-09-05 00:00:00</th>\n",
       "      <th>2016-09-06 00:00:00</th>\n",
       "      <th>2016-09-07 00:00:00</th>\n",
       "      <th>2016-09-08 00:00:00</th>\n",
       "      <th>2016-09-09 00:00:00</th>\n",
       "      <th>2016-09-10 00:00:00</th>\n",
       "    </tr>\n",
       "  </thead>\n",
       "  <tbody>\n",
       "    <tr>\n",
       "      <th>minutes</th>\n",
       "      <td>{'0': {'location': {'name': 'Home', 'latitude'...</td>\n",
       "      <td>{'0': {'location': {'name': 'Home', 'latitude'...</td>\n",
       "      <td>{'0': {'location': {'name': 'Home', 'latitude'...</td>\n",
       "      <td>{'0': {'location': {'name': 'Home', 'latitude'...</td>\n",
       "      <td>{'0': {'location': {'name': 'Home', 'latitude'...</td>\n",
       "      <td>{'0': {'location': {'name': 'Home', 'latitude'...</td>\n",
       "      <td>{'0': {'location': {'name': 'Home', 'latitude'...</td>\n",
       "      <td>{'0': {'location': {'name': 'Home', 'latitude'...</td>\n",
       "      <td>{'0': {'location': {'name': 'Home', 'latitude'...</td>\n",
       "      <td>{'0': {'location': {'name': 'Hotel Killarney',...</td>\n",
       "      <td>...</td>\n",
       "      <td>{'0': {'location': {'name': 'Home', 'latitude'...</td>\n",
       "      <td>{'0': {'location': {'name': '', 'latitude': '5...</td>\n",
       "      <td>{'0': {'location': {'name': 'Home', 'latitude'...</td>\n",
       "      <td>{'0': {'location': {'name': 'Home', 'latitude'...</td>\n",
       "      <td>{'0': {'location': {'name': '\"Park Inn Radisso...</td>\n",
       "      <td>{'0': {'location': {'name': 'Clarion Hotel The...</td>\n",
       "      <td>{'0': {'location': {'name': 'Clarion Hotel The...</td>\n",
       "      <td>{'0': {'location': {'name': 'Clarion Hotel The...</td>\n",
       "      <td>{'0': {'location': {'name': 'Home', 'latitude'...</td>\n",
       "      <td>{'0': {'location': {'name': 'Home', 'latitude'...</td>\n",
       "    </tr>\n",
       "  </tbody>\n",
       "</table>\n",
       "<p>1 rows × 27 columns</p>\n",
       "</div>"
      ],
      "text/plain": [
       "                                                2016-08-15  \\\n",
       "minutes  {'0': {'location': {'name': 'Home', 'latitude'...   \n",
       "\n",
       "                                                2016-08-16  \\\n",
       "minutes  {'0': {'location': {'name': 'Home', 'latitude'...   \n",
       "\n",
       "                                                2016-08-17  \\\n",
       "minutes  {'0': {'location': {'name': 'Home', 'latitude'...   \n",
       "\n",
       "                                                2016-08-18  \\\n",
       "minutes  {'0': {'location': {'name': 'Home', 'latitude'...   \n",
       "\n",
       "                                                2016-08-19  \\\n",
       "minutes  {'0': {'location': {'name': 'Home', 'latitude'...   \n",
       "\n",
       "                                                2016-08-20  \\\n",
       "minutes  {'0': {'location': {'name': 'Home', 'latitude'...   \n",
       "\n",
       "                                                2016-08-21  \\\n",
       "minutes  {'0': {'location': {'name': 'Home', 'latitude'...   \n",
       "\n",
       "                                                2016-08-22  \\\n",
       "minutes  {'0': {'location': {'name': 'Home', 'latitude'...   \n",
       "\n",
       "                                                2016-08-23  \\\n",
       "minutes  {'0': {'location': {'name': 'Home', 'latitude'...   \n",
       "\n",
       "                                                2016-08-24  ...  \\\n",
       "minutes  {'0': {'location': {'name': 'Hotel Killarney',...  ...   \n",
       "\n",
       "                                                2016-09-01  \\\n",
       "minutes  {'0': {'location': {'name': 'Home', 'latitude'...   \n",
       "\n",
       "                                                2016-09-02  \\\n",
       "minutes  {'0': {'location': {'name': '', 'latitude': '5...   \n",
       "\n",
       "                                                2016-09-03  \\\n",
       "minutes  {'0': {'location': {'name': 'Home', 'latitude'...   \n",
       "\n",
       "                                                2016-09-04  \\\n",
       "minutes  {'0': {'location': {'name': 'Home', 'latitude'...   \n",
       "\n",
       "                                                2016-09-05  \\\n",
       "minutes  {'0': {'location': {'name': '\"Park Inn Radisso...   \n",
       "\n",
       "                                                2016-09-06  \\\n",
       "minutes  {'0': {'location': {'name': 'Clarion Hotel The...   \n",
       "\n",
       "                                                2016-09-07  \\\n",
       "minutes  {'0': {'location': {'name': 'Clarion Hotel The...   \n",
       "\n",
       "                                                2016-09-08  \\\n",
       "minutes  {'0': {'location': {'name': 'Clarion Hotel The...   \n",
       "\n",
       "                                                2016-09-09  \\\n",
       "minutes  {'0': {'location': {'name': 'Home', 'latitude'...   \n",
       "\n",
       "                                                2016-09-10  \n",
       "minutes  {'0': {'location': {'name': 'Home', 'latitude'...  \n",
       "\n",
       "[1 rows x 27 columns]"
      ]
     },
     "execution_count": 3,
     "metadata": {},
     "output_type": "execute_result"
    }
   ],
   "source": [
    "def load_data_detection(path):\n",
    "    all_files = os.listdir(path)\n",
    "    print(all_files)\n",
    "    data = pd.read_json(path+all_files[0],convert_dates=False,lines=False)\n",
    "    data =data.drop(['image-directory'])\n",
    "    return data\n",
    "dataFrames = load_data_detection(default_path)\n",
    "dataFrames\n"
   ]
  },
  {
   "cell_type": "code",
   "execution_count": 7,
   "metadata": {
    "scrolled": true
   },
   "outputs": [
    {
     "name": "stdout",
     "output_type": "stream",
     "text": [
      "['0' '1' '2' ... None None None]\n"
     ]
    }
   ],
   "source": [
    "with open('LSC/full_dataset_annotation.json') as f:\n",
    "    data = json.loads(f.read())\n",
    "name,lat,lng,risk_situation,step,gsr,heart_rate,skin_temp,calories,timestamp = [],[],[],[],[],[],[],[],[],[]\n",
    "for date in data:\n",
    "    for result in data[date]:\n",
    "        if(result !='image-directory'): \n",
    "            for i in data[date][result]:\n",
    "                if(len(i)==0):\n",
    "                    timestamp.append('NA')\n",
    "                else:\n",
    "                    timestamp.append(i)\n",
    "                \n",
    "                if(len(data[date][result][str(i)]['location']['name']) == 0):\n",
    "                    name.append('NA')\n",
    "                else:\n",
    "                    name.append(data[date][result][str(i)]['location']['name'])\n",
    "                    \n",
    "                if(len(data[date][result][str(i)]['location']['latitude']) == 0):\n",
    "                    lat.append('NA')\n",
    "                else:\n",
    "                    lat.append(data[date][result][str(i)]['location']['latitude'])\n",
    "                    \n",
    "                if(len(data[date][result][str(i)]['location']['longitude']) == 0):\n",
    "                    lng.append('NA')\n",
    "                else:\n",
    "                    lat.append(data[date][result][str(i)]['location']['longitude'])\n",
    "                    \n",
    "                if(data[date][result][str(i)]['image']['risk_situation'] is None):\n",
    "                    risk_situation.append('NA')\n",
    "                else:\n",
    "                    risk_situation.append(data[date][result][str(i)]['image']['risk_situation'])\n",
    "                    \n",
    "                if(data[date][result][str(i)]['bodymetrics']['steps'] is None):\n",
    "                    step.append('NA')\n",
    "                else:\n",
    "                    step.append(data[date][result][str(i)]['bodymetrics']['steps'])\n",
    "                    \n",
    "                if(data[date][result][str(i)]['bodymetrics']['gsr'] is None):\n",
    "                    gsr.append('NA')\n",
    "                else:\n",
    "                    gsr.append(data[date][result][str(i)]['bodymetrics']['gsr'])  \n",
    "                \n",
    "                if(data[date][result][str(i)]['bodymetrics']['heart-rate'] is None):\n",
    "                    heart_rate.append('NA')\n",
    "                else:\n",
    "                    heart_rate.append(data[date][result][str(i)]['bodymetrics']['heart-rate'])\n",
    "                    \n",
    "                if(data[date][result][str(i)]['bodymetrics']['skin-temp'] is None):\n",
    "                    skin_temp.append('NA')\n",
    "                else:\n",
    "                    skin_temp.append(data[date][result][str(i)]['bodymetrics']['skin-temp'])\n",
    "                    \n",
    "                if(data[date][result][str(i)]['bodymetrics']['calories'] is None):\n",
    "                    calories.append('NA')\n",
    "                else:\n",
    "                    calories.append(data[date][result][str(i)]['bodymetrics']['calories'])\n",
    "                \n",
    "df = pd.DataFrame([timestamp,name,lat,lng,step,gsr,heart_rate,skin_temp,calories,risk_situation]).T\n",
    "df.columns = [\"timestamp\",\"name\", \"latitude\", \"longitude\", \"step\",\"gsr\",\"heart_rate\",\"skin_temp\",\"calories\",\"risk_situation\"]\n",
    "print(df.timestamp.values)"
   ]
  },
  {
   "cell_type": "code",
   "execution_count": null,
   "metadata": {
    "scrolled": true
   },
   "outputs": [],
   "source": [
    "def truncate(df):\n",
    "    k = 0\n",
    "    nb_rows = df.shape[0]\n",
    "    df_to_fill = pd.DataFrame(columns=df.columns.values.tolist())\n",
    "    while k < nb_rows:    \n",
    "        row_considered = df.iloc[[k]]\n",
    "        phase_considered = row_considered['phase'].values.tolist()[0]\n",
    "        phase_tmp = phase_considered\n",
    "        #print(phase_considered)\n",
    "        #print(phase_tmp)\n",
    "        i = 0\n",
    "        while phase_tmp == phase_considered and i<30:\n",
    "            if k + i + 1 < nb_rows:\n",
    "                # Verifying if there is a next value\n",
    "                i += 1\n",
    "                phase_tmp = df.iloc[[i+k]]['phase'].values.tolist()[0]\n",
    "            else:\n",
    "                # End of while\n",
    "                break\n",
    "        if i > 7:\n",
    "            # Add the row considered            \n",
    "            df_to_fill = df_to_fill.append(row_considered)            \n",
    "        if k + i + 1 < nb_rows:\n",
    "            k += i\n",
    "        else:\n",
    "            # End of the dataframe\n",
    "            break\n",
    "    df_to_fill = df_to_fill.reset_index(drop=True)\n",
    "    return df_to_fill\n",
    "df_truncated = truncate(dataFrames)\n",
    "#print(df_truncated.shape)\n",
    "#print([df_truncated['phase'].loc[lambda phase: phase==header].count() for header in headers])\n",
    "#print(df_truncated)"
   ]
  },
  {
   "cell_type": "code",
   "execution_count": null,
   "metadata": {},
   "outputs": [],
   "source": [
    "def creat_missing_values(df, nb_rows_to_del=1):\n",
    "    nb_rows = df.shape[0]\n",
    "    nb_columns = df.shape[1]\n",
    "    index_still = np.arange(nb_rows)\n",
    "    #print(index_still)\n",
    "    df_copy = df.copy()\n",
    "    if nb_rows_to_del < nb_rows:\n",
    "        while nb_rows-len(index_still)<nb_rows_to_del:\n",
    "            index_del = np.random.randint(len(index_still)-1)\n",
    "            timestamp_saved = df.iloc[index_del].__getitem__('timestamp')\n",
    "            #print(timestamp_saved)\n",
    "            df_copy.iloc[index_del] = [np.nan for i in range(nb_columns)]\n",
    "            #print(df_copy.iloc[index_del])\n",
    "            df_copy.loc[index_del, 'timestamp'] = timestamp_saved\n",
    "            #print(df_copy.iloc[index_del])\n",
    "            index_still = np.delete(index_still,index_del)\n",
    "    return df_copy\n",
    "df_copy = creat_missing_values(df_truncated, 5)\n",
    "#print(df_truncated.shape)\n",
    "print(df_copy.head(40))"
   ]
  },
  {
   "cell_type": "code",
   "execution_count": null,
   "metadata": {},
   "outputs": [],
   "source": [
    "df_copy.isna().count('lhx')"
   ]
  },
  {
   "cell_type": "code",
   "execution_count": null,
   "metadata": {},
   "outputs": [],
   "source": [
    "timestamp_saved = df_truncated.iloc[0].__getitem__('timestamp')\n",
    "print(timestamp_saved)\n",
    "df_nan = pd.DataFrame(columns=df_truncated.columns.values.tolist())\n",
    "\n",
    "df_nan = df_nan.append([np.nan])\n",
    "df_nan.loc[0,'timestamp'] = timestamp_saved\n",
    "print(df_nan)"
   ]
  },
  {
   "cell_type": "code",
   "execution_count": null,
   "metadata": {},
   "outputs": [],
   "source": [
    "df_truncated.iloc[0].__getitem__('phase')\n"
   ]
  },
  {
   "cell_type": "code",
   "execution_count": null,
   "metadata": {},
   "outputs": [],
   "source": []
  },
  {
   "cell_type": "code",
   "execution_count": null,
   "metadata": {},
   "outputs": [],
   "source": []
  },
  {
   "cell_type": "code",
   "execution_count": null,
   "metadata": {},
   "outputs": [],
   "source": []
  },
  {
   "cell_type": "code",
   "execution_count": null,
   "metadata": {},
   "outputs": [],
   "source": [
    "keys = ['lhx', 'lhy', 'lhz', 'rhx', 'rhy', 'rhz', 'hx', 'hy', 'hz', 'sx', 'sy', 'sz', 'lwx', 'lwy', 'lwz', 'rwx', 'rwy', 'rwz', 'timestamp', 'phase']\n",
    "input_keys = ['lhx', 'lhy', 'lhz', 'rhx', 'rhy', 'rhz', 'hx', 'hy', 'hz', 'sx', 'sy', 'sz', 'lwx', 'lwy', 'lwz', 'rwx', 'rwy', 'rwz']\n",
    "timestamp_key = 'timestamp'"
   ]
  },
  {
   "cell_type": "code",
   "execution_count": null,
   "metadata": {},
   "outputs": [],
   "source": []
  },
  {
   "cell_type": "code",
   "execution_count": null,
   "metadata": {},
   "outputs": [],
   "source": []
  },
  {
   "cell_type": "markdown",
   "metadata": {},
   "source": [
    "TODO:\n",
    "Concatenate all datas,\n",
    "truncate in this dataset,\n",
    "make random missing data\n",
    "\n",
    "Run.py : training / test"
   ]
  },
  {
   "cell_type": "code",
   "execution_count": null,
   "metadata": {},
   "outputs": [],
   "source": [
    "timestamp = df_Big['timestamp']\n",
    "processed_data = {\n",
    "    'input': [],\n",
    "    'masking': []\n",
    "}\n",
    "n = len(timestamp)"
   ]
  },
  {
   "cell_type": "code",
   "execution_count": null,
   "metadata": {},
   "outputs": [],
   "source": [
    "def creat_mask(timestamp, input_data):\n",
    "    "
   ]
  },
  {
   "cell_type": "code",
   "execution_count": null,
   "metadata": {},
   "outputs": [],
   "source": [
    "timestamp"
   ]
  }
 ],
 "metadata": {
  "kernelspec": {
   "display_name": "Python 3",
   "language": "python",
   "name": "python3"
  },
  "language_info": {
   "codemirror_mode": {
    "name": "ipython",
    "version": 3
   },
   "file_extension": ".py",
   "mimetype": "text/x-python",
   "name": "python",
   "nbconvert_exporter": "python",
   "pygments_lexer": "ipython3",
   "version": "3.7.3"
  }
 },
 "nbformat": 4,
 "nbformat_minor": 2
}
