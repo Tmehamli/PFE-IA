{
 "cells": [
  {
   "cell_type": "code",
   "execution_count": null,
   "metadata": {},
   "outputs": [],
   "source": [
    "import os\n",
    "import numpy as np\n",
    "import pandas as pd\n",
    "import csv \n",
    "import json\n",
    "from pandas.io.json import json_normalize\n",
    "from datetime import datetime"
   ]
  },
  {
   "cell_type": "code",
   "execution_count": null,
   "metadata": {},
   "outputs": [],
   "source": [
    "default_path = 'LSC/'\n",
    "seed = 42\n",
    "np.random.seed(seed=seed)"
   ]
  },
  {
   "cell_type": "code",
   "execution_count": null,
   "metadata": {
    "scrolled": true
   },
   "outputs": [],
   "source": [
    "with open('LSC/full_dataset_annotation.json') as f:\n",
    "    data = json.loads(f.read())\n",
    "name,lat,lng,risk_situation,step,gsr,heart_rate,skin_temp,calories,timestamp = [],[],[],[],[],[],[],[],[],[]\n",
    "for date in data:\n",
    "    for result in data[date]:\n",
    "        if(result !='image-directory'): \n",
    "            for i in data[date][result]:\n",
    "                if(len(i)==0):\n",
    "                    timestamp.append(np.nan)\n",
    "                else:\n",
    "                    if data[date][result][str(i)]['image']['image-id'] is None:\n",
    "                        timestamp.append(np.nan)\n",
    "                    else:\n",
    "                        tmp = data[date][result][str(i)]['image']['image-id'].split(\"_\")\n",
    "                        my_date = tmp[1]\n",
    "                        date_split = date.split(\"-\")\n",
    "                        yy = date_split[0]\n",
    "                        mm = date_split[1]\n",
    "                        dd = date_split[2]\n",
    "                        my_time = tmp[2]\n",
    "                        h=my_time[0]+my_time[1]\n",
    "                        m=my_time[2]+my_time[3]\n",
    "                        s=my_time[4]+my_time[5]\n",
    "                        stamp = datetime(int(yy),int(mm),int(dd),int(h),int(m),int(s))\n",
    "                        timestamp_ = datetime.timestamp(stamp)\n",
    "                        timestamp.append(timestamp_)\n",
    "                \n",
    "                if(len(data[date][result][str(i)]['location']['name']) == 0):\n",
    "                    name.append(np.nan)\n",
    "                else:\n",
    "                    name.append(data[date][result][str(i)]['location']['name'])\n",
    "                    \n",
    "                if(len(data[date][result][str(i)]['location']['latitude']) == 0):\n",
    "                    lat.append(np.nan)\n",
    "                else:\n",
    "                    lat.append(data[date][result][str(i)]['location']['latitude'])\n",
    "                    \n",
    "                if(len(data[date][result][str(i)]['location']['longitude']) == 0):\n",
    "                    lng.append(np.nan)\n",
    "                else:\n",
    "                    lat.append(data[date][result][str(i)]['location']['longitude'])\n",
    "                    \n",
    "                if(data[date][result][str(i)]['image']['risk_situation'] is None):\n",
    "                    risk_situation.append(np.nan)\n",
    "                else:\n",
    "                    risk_situation.append(data[date][result][str(i)]['image']['risk_situation'])\n",
    "                    \n",
    "                if(data[date][result][str(i)]['bodymetrics']['steps'] is None):\n",
    "                    step.append(np.nan)\n",
    "                else:\n",
    "                    step.append(data[date][result][str(i)]['bodymetrics']['steps'])\n",
    "                    \n",
    "                if(data[date][result][str(i)]['bodymetrics']['gsr'] is None):\n",
    "                    gsr.append(np.nan)\n",
    "                else:\n",
    "                    gsr.append(data[date][result][str(i)]['bodymetrics']['gsr'])  \n",
    "                \n",
    "                if(data[date][result][str(i)]['bodymetrics']['heart-rate'] is None):\n",
    "                    heart_rate.append(np.nan)\n",
    "                else:\n",
    "                    heart_rate.append(data[date][result][str(i)]['bodymetrics']['heart-rate'])\n",
    "                    \n",
    "                if(data[date][result][str(i)]['bodymetrics']['skin-temp'] is None):\n",
    "                    skin_temp.append(np.nan)\n",
    "                else:\n",
    "                    skin_temp.append(data[date][result][str(i)]['bodymetrics']['skin-temp'])\n",
    "                    \n",
    "                if(data[date][result][str(i)]['bodymetrics']['calories'] is None):\n",
    "                    calories.append(np.nan)\n",
    "                else:\n",
    "                    calories.append(data[date][result][str(i)]['bodymetrics']['calories'])\n",
    "                \n",
    "df = pd.DataFrame([timestamp,name,lat,lng,step,gsr,heart_rate,skin_temp,calories,risk_situation]).T\n",
    "df.columns = [\"timestamp\",\"name\", \"latitude\", \"longitude\", \"step\",\"gsr\",\"heart_rate\",\"skin_temp\",\"calories\",\"risk_situation\"]\n",
    "df.head(20)"
   ]
  },
  {
   "cell_type": "code",
   "execution_count": null,
   "metadata": {
    "scrolled": true
   },
   "outputs": [],
   "source": [
    "def truncate(df):\n",
    "    k = 0\n",
    "    nb_rows = df.shape[0]\n",
    "    df_to_fill = pd.DataFrame(columns=df.columns.values.tolist())\n",
    "    while k < nb_rows:    \n",
    "        row_considered = df.iloc[[k]]\n",
    "        phase_considered = row_considered['risk_situation'].values.tolist()[0]\n",
    "        phase_tmp = phase_considered\n",
    "        #print(phase_considered)\n",
    "        #print(phase_tmp)\n",
    "        i = 0\n",
    "        while phase_tmp == phase_considered and i<30:\n",
    "            if k + i + 1 < nb_rows:\n",
    "                # Verifying if there is a next value\n",
    "                i += 1\n",
    "                phase_tmp = df.iloc[[i+k]]['risk_situation'].values.tolist()[0]\n",
    "            else:\n",
    "                # End of while\n",
    "                break\n",
    "        if i > 7:\n",
    "            # Add the row considered            \n",
    "            df_to_fill = df_to_fill.append(row_considered)            \n",
    "        if k + i + 1 < nb_rows:\n",
    "            k += i\n",
    "        else:\n",
    "            # End of the dataframe\n",
    "            break\n",
    "    df_to_fill = df_to_fill.reset_index(drop=True)\n",
    "    return df_to_fill\n",
    "df_truncated = truncate(df)\n",
    "#print(df_truncated.shape)\n",
    "#print([df_truncated['phase'].loc[lambda phase: phase==header].count() for header in headers])\n",
    "#print(df_truncated)"
   ]
  },
  {
   "cell_type": "code",
   "execution_count": null,
   "metadata": {},
   "outputs": [],
   "source": [
    "def creat_missing_values(df, nb_rows_to_del=1):\n",
    "    nb_rows = df.shape[0]\n",
    "    nb_columns = df.shape[1]\n",
    "    index_still = np.arange(nb_rows)\n",
    "    #print(index_still)\n",
    "    df_copy = df.copy()\n",
    "    if nb_rows_to_del < nb_rows:\n",
    "        while nb_rows-len(index_still)<nb_rows_to_del:\n",
    "            index_del = np.random.randint(len(index_still)-1)\n",
    "            timestamp_saved = df.iloc[index_del].__getitem__('timestamp')\n",
    "            #print(timestamp_saved)\n",
    "            df_copy.iloc[index_del] = [np.nan for i in range(nb_columns)]\n",
    "            #print(df_copy.iloc[index_del])\n",
    "            df_copy.loc[index_del, 'timestamp'] = timestamp_saved\n",
    "            #print(df_copy.iloc[index_del])\n",
    "            index_still = np.delete(index_still,index_del)\n",
    "    return df_copy\n",
    "df_copy = creat_missing_values(df_truncated, 5)\n",
    "#print(df_truncated.shape)\n",
    "print(df_copy.head(10))"
   ]
  },
  {
   "cell_type": "code",
   "execution_count": null,
   "metadata": {},
   "outputs": [],
   "source": [
    "df_copy.isna().count('name')"
   ]
  },
  {
   "cell_type": "code",
   "execution_count": null,
   "metadata": {},
   "outputs": [],
   "source": [
    "timestamp_saved = df_truncated.iloc[0].__getitem__('timestamp')\n",
    "print(timestamp_saved)\n",
    "df_nan = pd.DataFrame(columns=df_truncated.columns.values.tolist())\n",
    "\n",
    "df_nan = df_nan.append([np.nan])\n",
    "df_nan.loc[0,'timestamp'] = timestamp_saved\n",
    "print(df_nan)"
   ]
  },
  {
   "cell_type": "code",
   "execution_count": null,
   "metadata": {},
   "outputs": [],
   "source": [
    "df_truncated.iloc[0].__getitem__('risk_situation')\n"
   ]
  },
  {
   "cell_type": "code",
   "execution_count": null,
   "metadata": {},
   "outputs": [],
   "source": [
    "keys = ['timestamp','name','latitude','longitude','step','gsr','heart_rate','skin_temp','calories','risk_situation']\n",
    "input_keys = ['timestamp','name','latitude','longitude','step','gsr','heart_rate','skin_temp','calories','risk_situation']\n",
    "timestamp_key = 'timestamp'"
   ]
  },
  {
   "cell_type": "markdown",
   "metadata": {},
   "source": [
    "TODO:\n",
    "Concatenate all datas,\n",
    "truncate in this dataset,\n",
    "make random missing data\n",
    "\n",
    "Run.py : training / test"
   ]
  },
  {
   "cell_type": "code",
   "execution_count": null,
   "metadata": {},
   "outputs": [],
   "source": [
    "timestamp = df_Big['timestamp']\n",
    "processed_data = {\n",
    "    'input': [],\n",
    "    'masking': []\n",
    "}\n",
    "n = len(timestamp)"
   ]
  }
 ],
 "metadata": {
  "kernelspec": {
   "display_name": "Python 3",
   "language": "python",
   "name": "python3"
  },
  "language_info": {
   "codemirror_mode": {
    "name": "ipython",
    "version": 3
   },
   "file_extension": ".py",
   "mimetype": "text/x-python",
   "name": "python",
   "nbconvert_exporter": "python",
   "pygments_lexer": "ipython3",
   "version": "3.7.3"
  }
 },
 "nbformat": 4,
 "nbformat_minor": 2
}
