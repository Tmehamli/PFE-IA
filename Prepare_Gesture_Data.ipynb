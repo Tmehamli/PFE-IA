{
 "cells": [
  {
   "cell_type": "code",
   "execution_count": 1,
   "metadata": {},
   "outputs": [],
   "source": [
    "import os\n",
    "import numpy as np\n",
    "import pandas as pd\n"
   ]
  },
  {
   "cell_type": "code",
   "execution_count": 3,
   "metadata": {},
   "outputs": [],
   "source": [
    "default_path = 'data/'\n",
    "default_file = 'a1_raw.csv'\n",
    "seed = 42\n",
    "numpy.random.seed(seed=seed)"
   ]
  },
  {
   "cell_type": "code",
   "execution_count": 2,
   "metadata": {},
   "outputs": [],
   "source": [
    "def input_selection(df_file, inputs_to_keep=[]) :\n",
    "    if len(inputs_to_keep)!=0:\n",
    "        #print(inputs_to_keep)\n",
    "        for header in df_file.columns.to_list():\n",
    "            if header not in inputs_to_keep: \n",
    "                del df_file[header]"
   ]
  },
  {
   "cell_type": "code",
   "execution_count": null,
   "metadata": {},
   "outputs": [],
   "source": [
    "def creat_missing_values(df_file, nb_values=1):\n",
    "    nb_row = df_file.shape[0]\n",
    "    if nb_values < nb_row:\n",
    "        missing_index = np.random.randint(nb_values, size=nb_values)\n",
    "        "
   ]
  },
  {
   "cell_type": "code",
   "execution_count": 10,
   "metadata": {},
   "outputs": [],
   "source": [
    "def prepare_data(path=default_path, file=default_file):\n",
    "    df_file = pd.read_csv(path + file, sep=',')\n",
    "    # TODO : inputs_to_keep define by caller\n",
    "    inputs_to_keep = df_file.columns.to_list()[0:1] + df_file.columns.to_list()[-2:-1]\n",
    "    input_selection(df_file, inputs_to_keep)\n",
    "    return df_file\n",
    "    '''try:\n",
    "        df_file.to_pickle(path + file[:-4]+\".pkl\")\n",
    "    except:\n",
    "        raise Error('Problem with DataFrame.to_pickle()')\n",
    "        '''"
   ]
  },
  {
   "cell_type": "code",
   "execution_count": 11,
   "metadata": {},
   "outputs": [],
   "source": [
    "df_file = prepare_data()"
   ]
  },
  {
   "cell_type": "code",
   "execution_count": 17,
   "metadata": {},
   "outputs": [
    {
     "data": {
      "text/plain": [
       "1747"
      ]
     },
     "execution_count": 17,
     "metadata": {},
     "output_type": "execute_result"
    }
   ],
   "source": [
    "df_file.shape[0]"
   ]
  }
 ],
 "metadata": {
  "kernelspec": {
   "display_name": "Python 3",
   "language": "python",
   "name": "python3"
  },
  "language_info": {
   "codemirror_mode": {
    "name": "ipython",
    "version": 3
   },
   "file_extension": ".py",
   "mimetype": "text/x-python",
   "name": "python",
   "nbconvert_exporter": "python",
   "pygments_lexer": "ipython3",
   "version": "3.7.5"
  }
 },
 "nbformat": 4,
 "nbformat_minor": 2
}
