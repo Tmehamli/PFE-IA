{
 "cells": [
  {
   "cell_type": "code",
   "execution_count": 1,
   "metadata": {},
   "outputs": [],
   "source": [
    "import os \n",
    "import numpy as np\n",
    "import pandas as pd\n",
    "from python_linq import From\n",
    "from sklearn.model_selection import TimeSeriesSplit"
   ]
  },
  {
   "cell_type": "code",
   "execution_count": 2,
   "metadata": {},
   "outputs": [],
   "source": [
    "seed = 42\n",
    "np.random.seed(seed=seed)"
   ]
  },
  {
   "cell_type": "code",
   "execution_count": 3,
   "metadata": {},
   "outputs": [
    {
     "name": "stdout",
     "output_type": "stream",
     "text": [
      "The data files will be converted and saved here:  ./data/gesture\n"
     ]
    }
   ],
   "source": [
    "gesture_root_folder = os.path.join('gesture_datas/')\n",
    "grud_working_folder = '.' # # This should be the [WD] (working directory) of the GRU-D project.\n",
    "grud_gesture_data_folder = os.path.join(grud_working_folder, 'data', 'gesture')\n",
    "if not os.path.exists(grud_gesture_data_folder):\n",
    "    os.makedirs(grud_gesture_data_folder)\n",
    "print('The data files will be converted and saved here: ', grud_gesture_data_folder)"
   ]
  },
  {
   "cell_type": "code",
   "execution_count": 4,
   "metadata": {},
   "outputs": [],
   "source": [
    "def Load_data(path):\n",
    "    all_files = os.listdir(path)\n",
    "    files_to_load = From(all_files).where(lambda file: file[-3:]=='csv').where(lambda file: file[-5]=='w').toList()\n",
    "    all_df = np.empty([len(files_to_load)], dtype=object)\n",
    "    for i,file in enumerate(files_to_load):\n",
    "        df_file = pd.read_csv(path + file, sep=',')\n",
    "        index_to_change = df_file.loc[df_file['phase']=='Preparação'].index\n",
    "        if index_to_change.size == 1:\n",
    "            df_file = df_file.loc[df_file['phase']!='Preparação']\n",
    "        all_df[i] = df_file\n",
    "    return all_df\n",
    "all_df = Load_data(gesture_root_folder)"
   ]
  },
  {
   "cell_type": "code",
   "execution_count": 5,
   "metadata": {},
   "outputs": [],
   "source": [
    "def Truncate(df):\n",
    "    k = 0\n",
    "    nb_rows = df.shape[0]\n",
    "    df_to_fill = pd.DataFrame(columns=df.columns.values.tolist())\n",
    "    while k < nb_rows:    \n",
    "        row_considered = df.iloc[[k]]\n",
    "        phase_considered = row_considered['phase'].values.tolist()[0]\n",
    "        phase_tmp = phase_considered\n",
    "        #print(phase_considered)\n",
    "        #print(phase_tmp)\n",
    "        i = 0\n",
    "        while phase_tmp == phase_considered and i<30:\n",
    "            if k + i + 1 < nb_rows:\n",
    "                # Verifying if there is a next value\n",
    "                i += 1\n",
    "                phase_tmp = df.iloc[[i+k]]['phase'].values.tolist()[0]\n",
    "            else:\n",
    "                # End of while\n",
    "                break\n",
    "        if i > 7:\n",
    "            # Add the row considered            \n",
    "            df_to_fill = df_to_fill.append(row_considered)            \n",
    "        if k + i + 1 < nb_rows:\n",
    "            k += i\n",
    "        else:\n",
    "            # End of the dataframe\n",
    "            break\n",
    "    df_to_fill = df_to_fill.reset_index(drop=True)\n",
    "    return df_to_fill\n",
    "all_df_truncated = [Truncate(dataframe) for dataframe in all_df]"
   ]
  },
  {
   "cell_type": "code",
   "execution_count": 6,
   "metadata": {},
   "outputs": [],
   "source": [
    "def Creat_missing_values(df, nb_rows_to_del=1):\n",
    "    nb_rows = df.shape[0]\n",
    "    nb_columns = df.shape[1]\n",
    "    index_still = np.arange(nb_rows)\n",
    "    df_copy = df.copy()\n",
    "    if nb_rows_to_del < nb_rows:\n",
    "        while nb_rows-len(index_still)<nb_rows_to_del:\n",
    "            index_del = np.random.randint(len(index_still)-1)\n",
    "            timestamp_saved = df.iloc[index_del].__getitem__('timestamp')\n",
    "            df_copy.iloc[index_del] = [np.nan for i in range(nb_columns)]\n",
    "            df_copy.loc[index_del, 'timestamp'] = timestamp_saved\n",
    "            index_still = np.delete(index_still,index_del)\n",
    "    return df_copy\n",
    "all_df_truncated_missing_data = [Creat_missing_values(df) for df in all_df_truncated]"
   ]
  },
  {
   "cell_type": "code",
   "execution_count": 7,
   "metadata": {},
   "outputs": [],
   "source": [
    "def Creat_mask(df):\n",
    "    mask = df.copy()\n",
    "    mask = mask.where(mask.isnull(),1)\n",
    "    mask = mask.where(mask.isnull()!=True,0)\n",
    "    return mask\n",
    "all_Mask = [Creat_mask(df) for df in all_df_truncated_missing_data]"
   ]
  },
  {
   "cell_type": "code",
   "execution_count": 8,
   "metadata": {},
   "outputs": [],
   "source": [
    "all_timestamp = [df.timestamp.values for df in all_df_truncated_missing_data]\n",
    "processed_data = {\n",
    "    'input': np.asarray([df.loc[:,'lhx':'rwz'].values for df in all_df_truncated_missing_data]),\n",
    "    'masking': np.asarray([Mask.loc[:,'lhx':'rwz'].values for Mask in all_Mask])\n",
    "}"
   ]
  },
  {
   "cell_type": "code",
   "execution_count": 9,
   "metadata": {},
   "outputs": [],
   "source": [
    "# process label\n",
    "#phase = ['Rest', 'Preparation', 'Hold', 'Stroke', 'Retraction']\n",
    "processed_label = {\n",
    "    'label_phase': np.asarray([df['phase'] for df in all_df_truncated_missing_data])\n",
    "}"
   ]
  },
  {
   "cell_type": "code",
   "execution_count": 10,
   "metadata": {},
   "outputs": [],
   "source": [
    "np.savez_compressed(os.path.join(grud_gesture_data_folder, 'data.npz'), timestamp=all_timestamp, **processed_data, **processed_label)"
   ]
  },
  {
   "cell_type": "code",
   "execution_count": 11,
   "metadata": {},
   "outputs": [],
   "source": [
    "n = processed_label['label_phase'].shape[0]\n",
    "processed_fold = {\n",
    "    'fold_phase': np.empty([n,5,3], dtype=object)\n",
    "}\n",
    "# process statistics\n",
    "# n_labeltype, 1, n_fold, (ts, nts), (mean, std)\n",
    "processed_stats = {\n",
    "    'mean_phase': np.empty([n,5,3], dtype=object),\n",
    "    'std_phase': np.empty([n,5,3], dtype=object)\n",
    "}"
   ]
  },
  {
   "cell_type": "code",
   "execution_count": 12,
   "metadata": {
    "scrolled": false
   },
   "outputs": [],
   "source": [
    "ts = TimeSeriesSplit(n_splits=5)\n",
    "val_rate = 0.2\n",
    "for n, inputs in enumerate(processed_data['input']):\n",
    "    for i,(train_index, test_index) in enumerate(ts.split(inputs)): \n",
    "        X_train, X_test = inputs[train_index], inputs[test_index]\n",
    "        X_train, X_val = X_train[0:int(len(X_train)*(1-val_rate))], X_train[int(len(X_train)*(1-val_rate)):]\n",
    "\n",
    "        processed_fold['fold_phase'][n][i][0] = np.asarray(train_index[0:int(len(X_train)*(1-val_rate))])\n",
    "        processed_fold['fold_phase'][n][i][1] = np.asarray(train_index[int(len(X_train)*(1-val_rate)):])\n",
    "        processed_fold['fold_phase'][n][i][2] = np.asarray(test_index)\n",
    "        \n",
    "        processed_stats['mean_phase'][n][i][0] = np.asarray([np.mean(X_train[:,i]) for i in range(X_train.shape[1])])\n",
    "        processed_stats['std_phase'][n][i][0] = np.asarray([np.std(X_train[:,i]) for i in range(X_train.shape[1])])\n",
    "\n",
    "    "
   ]
  },
  {
   "cell_type": "code",
   "execution_count": 13,
   "metadata": {},
   "outputs": [],
   "source": [
    "np.savez_compressed(os.path.join(grud_gesture_data_folder, 'fold.npz'), **processed_fold, **processed_stats)"
   ]
  },
  {
   "cell_type": "code",
   "execution_count": 87,
   "metadata": {},
   "outputs": [
    {
     "name": "stdout",
     "output_type": "stream",
     "text": [
      "processed_data['input'].shape (7,)\n",
      "processed_data['input'][:][0].shape (69, 18)\n",
      "processed_fold['fold_phase'][0][0].shape (3,)\n",
      "processed_fold['fold_phase'][0][0] [array([0, 1, 2, 3, 4, 5, 6, 7]) array([ 8,  9, 10, 11, 12, 13])\n",
      " array([14, 15, 16, 17, 18, 19, 20, 21, 22, 23, 24])]\n"
     ]
    }
   ],
   "source": [
    "print(\"processed_data['input'].shape\",processed_data['input'].shape)\n",
    "print(\"processed_data['input'][:][0].shape\",processed_data['input'][:][0].shape)\n",
    "print(\"processed_fold['fold_phase'][0][0].shape\",processed_fold['fold_phase'][0][0].shape)\n",
    "print(\"processed_fold['fold_phase'][0][0]\",processed_fold['fold_phase'][0][0])\n",
    "#processed_data['masking'][:][0][processed_fold['fold_phase'][0][0][0]]"
   ]
  },
  {
   "cell_type": "code",
   "execution_count": 94,
   "metadata": {},
   "outputs": [
    {
     "name": "stdout",
     "output_type": "stream",
     "text": [
      "len(inputs) 7\n",
      "len(inputs[0]) 3\n",
      "len(inputs[0][0]) 8\n",
      "len(inputs[0][0][0]) 18\n"
     ]
    }
   ],
   "source": [
    "batch_fold = processed_fold['fold_phase'][0][0]\n",
    "inputs = [[processed_data['input'][k][batch_fold[i]] for i in range(batch_fold.shape[0])]for k in range(processed_data['input'].shape[0])]\n",
    "print(\"len(inputs)\",len(inputs))\n",
    "print(\"len(inputs[0])\",len(inputs[0]))\n",
    "print(\"len(inputs[0][0])\",len(inputs[0][0]))\n",
    "print(\"len(inputs[0][0][0])\",len(inputs[0][0][0]))"
   ]
  },
  {
   "cell_type": "code",
   "execution_count": 96,
   "metadata": {},
   "outputs": [
    {
     "ename": "TypeError",
     "evalue": "unsupported operand type(s) for -: 'float' and 'NoneType'",
     "output_type": "error",
     "traceback": [
      "\u001b[0;31m---------------------------------------------------------------------------\u001b[0m",
      "\u001b[0;31mTypeError\u001b[0m                                 Traceback (most recent call last)",
      "\u001b[0;32m<ipython-input-96-3fbe14357639>\u001b[0m in \u001b[0;36m<module>\u001b[0;34m\u001b[0m\n\u001b[1;32m      2\u001b[0m \u001b[0mmean\u001b[0m \u001b[0;34m=\u001b[0m \u001b[0mprocessed_stats\u001b[0m\u001b[0;34m[\u001b[0m\u001b[0;34m'mean_phase'\u001b[0m\u001b[0;34m]\u001b[0m\u001b[0;34m\u001b[0m\u001b[0;34m\u001b[0m\u001b[0m\n\u001b[1;32m      3\u001b[0m \u001b[0mstd\u001b[0m \u001b[0;34m=\u001b[0m \u001b[0mprocessed_stats\u001b[0m\u001b[0;34m[\u001b[0m\u001b[0;34m'std_phase'\u001b[0m\u001b[0;34m]\u001b[0m\u001b[0;34m\u001b[0m\u001b[0;34m\u001b[0m\u001b[0m\n\u001b[0;32m----> 4\u001b[0;31m \u001b[0mnp\u001b[0m\u001b[0;34m.\u001b[0m\u001b[0masarray\u001b[0m\u001b[0;34m(\u001b[0m\u001b[0;34m[\u001b[0m\u001b[0;34m(\u001b[0m\u001b[0mxx\u001b[0m \u001b[0;34m-\u001b[0m \u001b[0mmean\u001b[0m\u001b[0;34m[\u001b[0m\u001b[0mnp\u001b[0m\u001b[0;34m.\u001b[0m\u001b[0mnewaxis\u001b[0m\u001b[0;34m,\u001b[0m \u001b[0;34m:\u001b[0m\u001b[0;34m]\u001b[0m\u001b[0;34m)\u001b[0m \u001b[0;34m/\u001b[0m \u001b[0mstd\u001b[0m\u001b[0;34m[\u001b[0m\u001b[0mnp\u001b[0m\u001b[0;34m.\u001b[0m\u001b[0mnewaxis\u001b[0m\u001b[0;34m,\u001b[0m \u001b[0;34m:\u001b[0m\u001b[0;34m]\u001b[0m \u001b[0;32mfor\u001b[0m \u001b[0mxx\u001b[0m \u001b[0;32min\u001b[0m \u001b[0mx\u001b[0m\u001b[0;34m]\u001b[0m\u001b[0;34m)\u001b[0m\u001b[0;34m\u001b[0m\u001b[0;34m\u001b[0m\u001b[0m\n\u001b[0m",
      "\u001b[0;32m<ipython-input-96-3fbe14357639>\u001b[0m in \u001b[0;36m<listcomp>\u001b[0;34m(.0)\u001b[0m\n\u001b[1;32m      2\u001b[0m \u001b[0mmean\u001b[0m \u001b[0;34m=\u001b[0m \u001b[0mprocessed_stats\u001b[0m\u001b[0;34m[\u001b[0m\u001b[0;34m'mean_phase'\u001b[0m\u001b[0;34m]\u001b[0m\u001b[0;34m\u001b[0m\u001b[0;34m\u001b[0m\u001b[0m\n\u001b[1;32m      3\u001b[0m \u001b[0mstd\u001b[0m \u001b[0;34m=\u001b[0m \u001b[0mprocessed_stats\u001b[0m\u001b[0;34m[\u001b[0m\u001b[0;34m'std_phase'\u001b[0m\u001b[0;34m]\u001b[0m\u001b[0;34m\u001b[0m\u001b[0;34m\u001b[0m\u001b[0m\n\u001b[0;32m----> 4\u001b[0;31m \u001b[0mnp\u001b[0m\u001b[0;34m.\u001b[0m\u001b[0masarray\u001b[0m\u001b[0;34m(\u001b[0m\u001b[0;34m[\u001b[0m\u001b[0;34m(\u001b[0m\u001b[0mxx\u001b[0m \u001b[0;34m-\u001b[0m \u001b[0mmean\u001b[0m\u001b[0;34m[\u001b[0m\u001b[0mnp\u001b[0m\u001b[0;34m.\u001b[0m\u001b[0mnewaxis\u001b[0m\u001b[0;34m,\u001b[0m \u001b[0;34m:\u001b[0m\u001b[0;34m]\u001b[0m\u001b[0;34m)\u001b[0m \u001b[0;34m/\u001b[0m \u001b[0mstd\u001b[0m\u001b[0;34m[\u001b[0m\u001b[0mnp\u001b[0m\u001b[0;34m.\u001b[0m\u001b[0mnewaxis\u001b[0m\u001b[0;34m,\u001b[0m \u001b[0;34m:\u001b[0m\u001b[0;34m]\u001b[0m \u001b[0;32mfor\u001b[0m \u001b[0mxx\u001b[0m \u001b[0;32min\u001b[0m \u001b[0mx\u001b[0m\u001b[0;34m]\u001b[0m\u001b[0;34m)\u001b[0m\u001b[0;34m\u001b[0m\u001b[0;34m\u001b[0m\u001b[0m\n\u001b[0m",
      "\u001b[0;31mTypeError\u001b[0m: unsupported operand type(s) for -: 'float' and 'NoneType'"
     ]
    }
   ],
   "source": [
    "x = inputs\n",
    "mean = processed_stats['mean_phase']\n",
    "std = processed_stats['std_phase']\n",
    "np.asarray([(xx - mean[np.newaxis, :]) / std[np.newaxis, :] for xx in x])"
   ]
  },
  {
   "cell_type": "code",
   "execution_count": null,
   "metadata": {},
   "outputs": [],
   "source": [
    "'''\n",
    "inputs = [[processed_data['input'][0][batch_fold[i]][:] for i in range(batch_fold.shape[0])] for s\n",
    "                             in ['input', 'masking', 'timestamp']]\n",
    "print(\"len(inputs[0])\",len(inputs[0]))\n",
    "print(\"len(inputs[0][0])\",len(inputs[0][0]))\n",
    "print(\"len(inputs[0][0][0])\", len(inputs[0][0][0]))\n",
    "print(inputs[0][0][0])\n",
    "'''"
   ]
  }
 ],
 "metadata": {
  "kernelspec": {
   "display_name": "Python 3",
   "language": "python",
   "name": "python3"
  },
  "language_info": {
   "codemirror_mode": {
    "name": "ipython",
    "version": 3
   },
   "file_extension": ".py",
   "mimetype": "text/x-python",
   "name": "python",
   "nbconvert_exporter": "python",
   "pygments_lexer": "ipython3",
   "version": "3.6.9"
  }
 },
 "nbformat": 4,
 "nbformat_minor": 2
}
