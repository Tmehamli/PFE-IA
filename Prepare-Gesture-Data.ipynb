{
 "cells": [
  {
   "cell_type": "markdown",
   "metadata": {},
   "source": [
    "We use this script to process the Gesture dataset and get the input files for the GRU-D models."
   ]
  },
  {
   "cell_type": "code",
   "execution_count": 1,
   "metadata": {},
   "outputs": [],
   "source": [
    "import os \n",
    "import numpy as np\n",
    "import pandas as pd\n",
    "from python_linq import From"
   ]
  },
  {
   "cell_type": "code",
   "execution_count": 2,
   "metadata": {},
   "outputs": [],
   "source": [
    "seed = 42\n",
    "np.random.seed(seed=seed)"
   ]
  },
  {
   "cell_type": "code",
   "execution_count": 3,
   "metadata": {},
   "outputs": [
    {
     "name": "stdout",
     "output_type": "stream",
     "text": [
      "The data files will be converted and saved here:  ./data/gesture\n"
     ]
    }
   ],
   "source": [
    "gesture_root_folder = os.path.join('gesture_datas/')\n",
    "grud_working_folder = '.' # # This should be the [WD] (working directory) of the GRU-D project.\n",
    "grud_gesture_data_folder = os.path.join(grud_working_folder, 'data', 'gesture')\n",
    "if not os.path.exists(grud_gesture_data_folder):\n",
    "    os.makedirs(grud_gesture_data_folder)\n",
    "print('The data files will be converted and saved here: ', grud_gesture_data_folder)"
   ]
  },
  {
   "cell_type": "code",
   "execution_count": 4,
   "metadata": {},
   "outputs": [],
   "source": [
    "def Load_data(path):\n",
    "    all_files = os.listdir(path)\n",
    "    files_to_load = From(all_files).where(lambda file: file[-3:]=='csv').where(lambda file: file[-5]=='w').toList()\n",
    "    df_Big = pd.read_csv(path +files_to_load[0], sep=',')\n",
    "    for file in files_to_load:\n",
    "        df_file = pd.read_csv(path + file, sep=',')\n",
    "        df_Big = df_Big.append(df_file)\n",
    "    df_Big = df_Big.loc[df_Big['phase']!='Preparação']\n",
    "    return df_Big\n",
    "dataframe = Load_data(gesture_root_folder)"
   ]
  },
  {
   "cell_type": "code",
   "execution_count": 5,
   "metadata": {},
   "outputs": [],
   "source": [
    "def Truncate(df):\n",
    "    k = 0\n",
    "    nb_rows = df.shape[0]\n",
    "    df_to_fill = pd.DataFrame(columns=df.columns.values.tolist())\n",
    "    while k < nb_rows:    \n",
    "        row_considered = df.iloc[[k]]\n",
    "        phase_considered = row_considered['phase'].values.tolist()[0]\n",
    "        phase_tmp = phase_considered\n",
    "        #print(phase_considered)\n",
    "        #print(phase_tmp)\n",
    "        i = 0\n",
    "        while phase_tmp == phase_considered and i<30:\n",
    "            if k + i + 1 < nb_rows:\n",
    "                # Verifying if there is a next value\n",
    "                i += 1\n",
    "                phase_tmp = df.iloc[[i+k]]['phase'].values.tolist()[0]\n",
    "            else:\n",
    "                # End of while\n",
    "                break\n",
    "        if i > 7:\n",
    "            # Add the row considered            \n",
    "            df_to_fill = df_to_fill.append(row_considered)            \n",
    "        if k + i + 1 < nb_rows:\n",
    "            k += i\n",
    "        else:\n",
    "            # End of the dataframe\n",
    "            break\n",
    "    df_to_fill = df_to_fill.reset_index(drop=True)\n",
    "    return df_to_fill\n",
    "df_truncated = Truncate(dataframe)"
   ]
  },
  {
   "cell_type": "code",
   "execution_count": 6,
   "metadata": {},
   "outputs": [],
   "source": [
    "def Creat_missing_values(df, nb_rows_to_del=1):\n",
    "    nb_rows = df.shape[0]\n",
    "    nb_columns = df.shape[1]\n",
    "    index_still = np.arange(nb_rows)\n",
    "    df_copy = df.copy()\n",
    "    if nb_rows_to_del < nb_rows:\n",
    "        while nb_rows-len(index_still)<nb_rows_to_del:\n",
    "            index_del = np.random.randint(len(index_still)-1)\n",
    "            timestamp_saved = df.iloc[index_del].__getitem__('timestamp')\n",
    "            df_copy.iloc[index_del] = [np.nan for i in range(nb_columns)]\n",
    "            df_copy.loc[index_del, 'timestamp'] = timestamp_saved\n",
    "            index_still = np.delete(index_still,index_del)\n",
    "    return df_copy\n",
    "df_truncated_missing_data = Creat_missing_values(df_truncated)"
   ]
  },
  {
   "cell_type": "code",
   "execution_count": 7,
   "metadata": {},
   "outputs": [],
   "source": [
    "def Creat_mask(df):\n",
    "    mask = df_truncated_missing_data.copy()\n",
    "    mask = mask.where(mask.isnull(),1)\n",
    "    mask = mask.where(mask.isnull()!=True,0)\n",
    "    return mask\n",
    "Mask = Creat_mask(df_truncated_missing_data)"
   ]
  },
  {
   "cell_type": "code",
   "execution_count": 8,
   "metadata": {},
   "outputs": [],
   "source": [
    "timestamp = df_truncated_missing_data.timestamp.values\n",
    "processed_data = {\n",
    "    'input': np.asarray(df_truncated_missing_data.loc[:,'lhx':'rwz'].values),\n",
    "    'masking': np.asarray(Mask.loc[:,'lhx':'rwz'].values)\n",
    "}\n",
    "n = len(timestamp)"
   ]
  },
  {
   "cell_type": "code",
   "execution_count": 9,
   "metadata": {},
   "outputs": [],
   "source": [
    "# process label\n",
    "#phase = ['Rest', 'Preparation', 'Hold', 'Stroke', 'Retraction']\n",
    "processed_label = {\n",
    "    'label_phase': np.asarray(df_truncated_missing_data['phase'])\n",
    "}"
   ]
  },
  {
   "cell_type": "code",
   "execution_count": 10,
   "metadata": {},
   "outputs": [],
   "source": [
    "np.savez_compressed(os.path.join(grud_gesture_data_folder, 'data.npz'), timestamp=timestamp, **processed_data, **processed_label)"
   ]
  },
  {
   "cell_type": "code",
   "execution_count": 11,
   "metadata": {},
   "outputs": [],
   "source": [
    "from sklearn.model_selection import train_test_split, KFold, TimeSeriesSplit\n",
    "from sklearn.preprocessing import StandardScaler\n",
    "#https://scikit-learn.org/stable/modules/cross_validation.html#cross-validation-of-time-series-data"
   ]
  },
  {
   "cell_type": "code",
   "execution_count": 12,
   "metadata": {
    "scrolled": true
   },
   "outputs": [],
   "source": [
    "#df_truncated_missing_data.loc[:,'lhx':'rwz']"
   ]
  },
  {
   "cell_type": "code",
   "execution_count": 13,
   "metadata": {},
   "outputs": [],
   "source": [
    "processed_fold = {\n",
    "    'fold_phase': np.empty([5,3], dtype=object)\n",
    "}\n",
    "# process statistics\n",
    "# n_labeltype, 1, n_fold, (ts, nts), (mean, std)\n",
    "processed_stats = {\n",
    "    'mean_phase': np.empty([5,3], dtype=object),\n",
    "    'std_phase': np.empty([5,3], dtype=object)\n",
    "}"
   ]
  },
  {
   "cell_type": "code",
   "execution_count": 14,
   "metadata": {},
   "outputs": [],
   "source": [
    "ts = TimeSeriesSplit(n_splits=5)\n",
    "val_rate = 0.2\n",
    "i=0\n",
    "for train_index, test_index in ts.split(processed_data['input']): \n",
    "    X_train, X_test = processed_data['input'][train_index], processed_data['input'][test_index]\n",
    "    X_train, X_val = X_train[0:int(len(X_train)*(1-val_rate))], X_train[int(len(X_train)*(1-val_rate)):]\n",
    "    \n",
    "    processed_fold['fold_phase'][i][0] = np.asarray(train_index[0:int(len(X_train)*(1-val_rate))])\n",
    "    processed_fold['fold_phase'][i][1] = np.asarray(train_index[int(len(X_train)*(1-val_rate)):])\n",
    "    processed_fold['fold_phase'][i][2] = np.asarray(test_index)\n",
    "    \n",
    "    processed_stats['mean_phase'][i][0] = np.asarray([np.mean(X_train[:,i]) for i in range(X_train.shape[1])])\n",
    "    processed_stats['std_phase'][i][0] = np.asarray([np.std(X_train[:,i]) for i in range(X_train.shape[1])])\n",
    "    i += 1\n"
   ]
  },
  {
   "cell_type": "code",
   "execution_count": 15,
   "metadata": {},
   "outputs": [],
   "source": [
    "np.savez_compressed(os.path.join(grud_gesture_data_folder, 'fold.npz'), **processed_fold, **processed_stats)"
   ]
  },
  {
   "cell_type": "code",
   "execution_count": 16,
   "metadata": {
    "scrolled": true
   },
   "outputs": [
    {
     "name": "stdout",
     "output_type": "stream",
     "text": [
      "timestamp (532,)\n",
      "input (532, 18)\n",
      "masking (532, 18)\n",
      "label_phase (532,)\n",
      "fold_phase (5, 3)\n",
      "\t [(58,), (34,), (88,)]\n",
      "\t [(115,), (65,), (88,)]\n",
      "\t [(171,), (97,), (88,)]\n",
      "\t [(227,), (129,), (88,)]\n",
      "\t [(284,), (160,), (88,)]\n",
      "mean_phase (5, 3)\n"
     ]
    },
    {
     "ename": "AttributeError",
     "evalue": "'NoneType' object has no attribute 'shape'",
     "output_type": "error",
     "traceback": [
      "\u001b[0;31m---------------------------------------------------------------------------\u001b[0m",
      "\u001b[0;31mAttributeError\u001b[0m                            Traceback (most recent call last)",
      "\u001b[0;32m<ipython-input-16-2fb7bb4a2d52>\u001b[0m in \u001b[0;36m<module>\u001b[0;34m\u001b[0m\n\u001b[1;32m      7\u001b[0m     \u001b[0mprint\u001b[0m\u001b[0;34m(\u001b[0m\u001b[0mk\u001b[0m\u001b[0;34m,\u001b[0m \u001b[0mfold\u001b[0m\u001b[0;34m[\u001b[0m\u001b[0mk\u001b[0m\u001b[0;34m]\u001b[0m\u001b[0;34m.\u001b[0m\u001b[0mshape\u001b[0m\u001b[0;34m)\u001b[0m\u001b[0;34m\u001b[0m\u001b[0;34m\u001b[0m\u001b[0m\n\u001b[1;32m      8\u001b[0m     \u001b[0;32mfor\u001b[0m \u001b[0mf\u001b[0m \u001b[0;32min\u001b[0m \u001b[0mfold\u001b[0m\u001b[0;34m[\u001b[0m\u001b[0mk\u001b[0m\u001b[0;34m]\u001b[0m\u001b[0;34m:\u001b[0m\u001b[0;34m\u001b[0m\u001b[0;34m\u001b[0m\u001b[0m\n\u001b[0;32m----> 9\u001b[0;31m         \u001b[0mprint\u001b[0m\u001b[0;34m(\u001b[0m\u001b[0;34m'\\t'\u001b[0m\u001b[0;34m,\u001b[0m \u001b[0;34m[\u001b[0m\u001b[0mx\u001b[0m\u001b[0;34m.\u001b[0m\u001b[0mshape\u001b[0m \u001b[0;32mfor\u001b[0m \u001b[0mx\u001b[0m \u001b[0;32min\u001b[0m \u001b[0mf\u001b[0m\u001b[0;34m]\u001b[0m\u001b[0;34m)\u001b[0m\u001b[0;34m\u001b[0m\u001b[0;34m\u001b[0m\u001b[0m\n\u001b[0m",
      "\u001b[0;32m<ipython-input-16-2fb7bb4a2d52>\u001b[0m in \u001b[0;36m<listcomp>\u001b[0;34m(.0)\u001b[0m\n\u001b[1;32m      7\u001b[0m     \u001b[0mprint\u001b[0m\u001b[0;34m(\u001b[0m\u001b[0mk\u001b[0m\u001b[0;34m,\u001b[0m \u001b[0mfold\u001b[0m\u001b[0;34m[\u001b[0m\u001b[0mk\u001b[0m\u001b[0;34m]\u001b[0m\u001b[0;34m.\u001b[0m\u001b[0mshape\u001b[0m\u001b[0;34m)\u001b[0m\u001b[0;34m\u001b[0m\u001b[0;34m\u001b[0m\u001b[0m\n\u001b[1;32m      8\u001b[0m     \u001b[0;32mfor\u001b[0m \u001b[0mf\u001b[0m \u001b[0;32min\u001b[0m \u001b[0mfold\u001b[0m\u001b[0;34m[\u001b[0m\u001b[0mk\u001b[0m\u001b[0;34m]\u001b[0m\u001b[0;34m:\u001b[0m\u001b[0;34m\u001b[0m\u001b[0;34m\u001b[0m\u001b[0m\n\u001b[0;32m----> 9\u001b[0;31m         \u001b[0mprint\u001b[0m\u001b[0;34m(\u001b[0m\u001b[0;34m'\\t'\u001b[0m\u001b[0;34m,\u001b[0m \u001b[0;34m[\u001b[0m\u001b[0mx\u001b[0m\u001b[0;34m.\u001b[0m\u001b[0mshape\u001b[0m \u001b[0;32mfor\u001b[0m \u001b[0mx\u001b[0m \u001b[0;32min\u001b[0m \u001b[0mf\u001b[0m\u001b[0;34m]\u001b[0m\u001b[0;34m)\u001b[0m\u001b[0;34m\u001b[0m\u001b[0;34m\u001b[0m\u001b[0m\n\u001b[0m",
      "\u001b[0;31mAttributeError\u001b[0m: 'NoneType' object has no attribute 'shape'"
     ]
    }
   ],
   "source": [
    "data = np.load(os.path.join(grud_gesture_data_folder, 'data.npz'))\n",
    "for k in data.keys():\n",
    "    print(k, data[k].shape)\n",
    "\n",
    "fold = np.load(os.path.join(grud_gesture_data_folder, 'fold.npz'))\n",
    "for k in fold.keys():\n",
    "    print(k, fold[k].shape)\n",
    "    for f in fold[k]:\n",
    "        print('\\t', [x.shape for x in f])\n"
   ]
  },
  {
   "cell_type": "code",
   "execution_count": null,
   "metadata": {},
   "outputs": [],
   "source": []
  }
 ],
 "metadata": {
  "kernelspec": {
   "display_name": "Python 3",
   "language": "python",
   "name": "python3"
  },
  "language_info": {
   "codemirror_mode": {
    "name": "ipython",
    "version": 3
   },
   "file_extension": ".py",
   "mimetype": "text/x-python",
   "name": "python",
   "nbconvert_exporter": "python",
   "pygments_lexer": "ipython3",
   "version": "3.7.4"
  }
 },
 "nbformat": 4,
 "nbformat_minor": 2
}
