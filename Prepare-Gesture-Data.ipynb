{
 "cells": [
  {
   "cell_type": "markdown",
   "metadata": {},
   "source": [
    "We use this script to process the Gesture dataset and get the input files for the GRU-D models."
   ]
  },
  {
   "cell_type": "code",
   "execution_count": 4,
   "metadata": {},
   "outputs": [],
   "source": [
    "import os \n",
    "import numpy as np\n",
    "import pandas as pd\n",
    "from python_linq import From"
   ]
  },
  {
   "cell_type": "code",
   "execution_count": null,
   "metadata": {},
   "outputs": [],
   "source": []
  },
  {
   "cell_type": "code",
   "execution_count": 3,
   "metadata": {},
   "outputs": [
    {
     "name": "stdout",
     "output_type": "stream",
     "text": [
      "The data files will be converted and saved here:  ./data/gesture\n"
     ]
    }
   ],
   "source": [
    "gesture_root_folder = os.path.join('..', 'gesture_datas')\n",
    "grud_working_folder = '.' # # This should be the [WD] (working directory) of the GRU-D project.\n",
    "grud_gesture_data_folder = os.path.join(grud_working_folder, 'data', 'gesture')\n",
    "if not os.path.exists(grud_gesture_data_folder):\n",
    "    os.makedirs(grud_gesture_data_folder)\n",
    "print('The data files will be converted and saved here: ', grud_gesture_data_folder)"
   ]
  },
  {
   "cell_type": "code",
   "execution_count": null,
   "metadata": {},
   "outputs": [],
   "source": [
    "# Convert *raw.csv to data.npz\n",
    "raw_data = load(gesture_root_folder) #TODO: Creat load() that load all csv data(clean data and make appropriate format)\n",
    "timestamp = raw_data['T_t']\n",
    "processed_data = {\n",
    "    'input' : raw_data['X_t'],\n",
    "    'masking' : raw_data['X_t_mask']\n",
    "}\n",
    "n = len(timestamp)"
   ]
  },
  {
   "cell_type": "code",
   "execution_count": null,
   "metadata": {},
   "outputs": [],
   "source": [
    "def load(path):\n",
    "    raw_data = {\n",
    "        'T_t' : [],\n",
    "        'X_t' : [],\n",
    "        'x_t_mask' : []\n",
    "    }\n",
    "    \n",
    "    return raw_data"
   ]
  }
 ],
 "metadata": {
  "kernelspec": {
   "display_name": "Python 3",
   "language": "python",
   "name": "python3"
  },
  "language_info": {
   "codemirror_mode": {
    "name": "ipython",
    "version": 3
   },
   "file_extension": ".py",
   "mimetype": "text/x-python",
   "name": "python",
   "nbconvert_exporter": "python",
   "pygments_lexer": "ipython3",
   "version": "3.7.4"
  }
 },
 "nbformat": 4,
 "nbformat_minor": 2
}
