{
 "cells": [
  {
   "cell_type": "markdown",
   "metadata": {},
   "source": [
    "We use this script to process the Gesture dataset and get the input files for the GRU-D models."
   ]
  },
  {
   "cell_type": "code",
   "execution_count": 1,
   "metadata": {},
   "outputs": [],
   "source": [
    "import os \n",
    "import numpy as np\n",
    "import pandas as pd\n",
    "from python_linq import From"
   ]
  },
  {
   "cell_type": "code",
   "execution_count": 2,
   "metadata": {},
   "outputs": [],
   "source": [
    "seed = 42\n",
    "np.random.seed(seed=seed)"
   ]
  },
  {
   "cell_type": "code",
   "execution_count": 15,
   "metadata": {},
   "outputs": [
    {
     "name": "stdout",
     "output_type": "stream",
     "text": [
      "The data files will be converted and saved here:  ./data/gesture\n"
     ]
    }
   ],
   "source": [
    "gesture_root_folder = os.path.join('gesture_datas/')\n",
    "grud_working_folder = '.' # # This should be the [WD] (working directory) of the GRU-D project.\n",
    "grud_gesture_data_folder = os.path.join(grud_working_folder, 'data', 'gesture')\n",
    "if not os.path.exists(grud_gesture_data_folder):\n",
    "    os.makedirs(grud_gesture_data_folder)\n",
    "print('The data files will be converted and saved here: ', grud_gesture_data_folder)"
   ]
  },
  {
   "cell_type": "code",
   "execution_count": 19,
   "metadata": {},
   "outputs": [],
   "source": [
    "def Load_data(path):\n",
    "    all_files = os.listdir(path)\n",
    "    files_to_load = From(all_files).where(lambda file: file[-3:]=='csv').where(lambda file: file[-5]=='w').toList()\n",
    "    df_Big = pd.read_csv(path +files_to_load[0], sep=',')\n",
    "    for file in files_to_load:\n",
    "        df_file = pd.read_csv(path + file, sep=',')\n",
    "        df_Big = df_Big.append(df_file)\n",
    "    df_Big = df_Big.loc[df_Big['phase']!='Preparação']\n",
    "    return df_Big\n",
    "dataframe = Load_data(gesture_root_folder)"
   ]
  },
  {
   "cell_type": "code",
   "execution_count": 20,
   "metadata": {},
   "outputs": [],
   "source": [
    "def Truncate(df):\n",
    "    k = 0\n",
    "    nb_rows = df.shape[0]\n",
    "    df_to_fill = pd.DataFrame(columns=df.columns.values.tolist())\n",
    "    while k < nb_rows:    \n",
    "        row_considered = df.iloc[[k]]\n",
    "        phase_considered = row_considered['phase'].values.tolist()[0]\n",
    "        phase_tmp = phase_considered\n",
    "        #print(phase_considered)\n",
    "        #print(phase_tmp)\n",
    "        i = 0\n",
    "        while phase_tmp == phase_considered and i<30:\n",
    "            if k + i + 1 < nb_rows:\n",
    "                # Verifying if there is a next value\n",
    "                i += 1\n",
    "                phase_tmp = df.iloc[[i+k]]['phase'].values.tolist()[0]\n",
    "            else:\n",
    "                # End of while\n",
    "                break\n",
    "        if i > 7:\n",
    "            # Add the row considered            \n",
    "            df_to_fill = df_to_fill.append(row_considered)            \n",
    "        if k + i + 1 < nb_rows:\n",
    "            k += i\n",
    "        else:\n",
    "            # End of the dataframe\n",
    "            break\n",
    "    df_to_fill = df_to_fill.reset_index(drop=True)\n",
    "    return df_to_fill\n",
    "df_truncated = Truncate(dataframe)"
   ]
  },
  {
   "cell_type": "code",
   "execution_count": 21,
   "metadata": {},
   "outputs": [],
   "source": [
    "def Creat_missing_values(df, nb_rows_to_del=1):\n",
    "    nb_rows = df.shape[0]\n",
    "    nb_columns = df.shape[1]\n",
    "    index_still = np.arange(nb_rows)\n",
    "    df_copy = df.copy()\n",
    "    if nb_rows_to_del < nb_rows:\n",
    "        while nb_rows-len(index_still)<nb_rows_to_del:\n",
    "            index_del = np.random.randint(len(index_still)-1)\n",
    "            timestamp_saved = df.iloc[index_del].__getitem__('timestamp')\n",
    "            df_copy.iloc[index_del] = [np.nan for i in range(nb_columns)]\n",
    "            df_copy.loc[index_del, 'timestamp'] = timestamp_saved\n",
    "            index_still = np.delete(index_still,index_del)\n",
    "    return df_copy\n",
    "df_truncated_missing_data = Creat_missing_values(df_truncated)"
   ]
  },
  {
   "cell_type": "code",
   "execution_count": 26,
   "metadata": {},
   "outputs": [
    {
     "data": {
      "text/plain": [
       "array([[0., 0., 0., ..., 0., 0., 0.],\n",
       "       [0., 0., 0., ..., 0., 0., 0.],\n",
       "       [0., 0., 0., ..., 0., 0., 0.],\n",
       "       ...,\n",
       "       [0., 0., 0., ..., 0., 0., 0.],\n",
       "       [0., 0., 0., ..., 0., 0., 0.],\n",
       "       [0., 0., 0., ..., 0., 0., 0.]])"
      ]
     },
     "execution_count": 26,
     "metadata": {},
     "output_type": "execute_result"
    }
   ],
   "source": [
    "nb_rows = df_truncated_missing_data.shape[0]\n",
    "nb_columns = df_truncated_missing_data.shape[1]\n",
    "mask = np.zeros(nb_rows*nb_columns).reshape((nb_rows,nb_columns))"
   ]
  },
  {
   "cell_type": "code",
   "execution_count": 23,
   "metadata": {},
   "outputs": [],
   "source": [
    "keys = ['lhx', 'lhy', 'lhz', 'rhx', 'rhy', 'rhz', 'hx', 'hy', 'hz', 'sx', 'sy', 'sz', 'lwx', 'lwy', 'lwz', 'rwx', 'rwy', 'rwz', 'timestamp', 'phase']\n",
    "input_keys = ['lhx', 'lhy', 'lhz', 'rhx', 'rhy', 'rhz', 'hx', 'hy', 'hz', 'sx', 'sy', 'sz', 'lwx', 'lwy', 'lwz', 'rwx', 'rwy', 'rwz']\n",
    "timestamp_key = 'timestamp'"
   ]
  },
  {
   "cell_type": "code",
   "execution_count": 22,
   "metadata": {},
   "outputs": [
    {
     "data": {
      "text/plain": [
       "0      2730074\n",
       "1      2731073\n",
       "2      2731641\n",
       "3      2732639\n",
       "4      2733471\n",
       "        ...   \n",
       "513    5429382\n",
       "514    5430306\n",
       "515    5430571\n",
       "516    5431038\n",
       "517    5432169\n",
       "Name: timestamp, Length: 518, dtype: int64"
      ]
     },
     "execution_count": 22,
     "metadata": {},
     "output_type": "execute_result"
    }
   ],
   "source": [
    "def Creat_mask(df):\n",
    "    "
   ]
  },
  {
   "cell_type": "code",
   "execution_count": null,
   "metadata": {},
   "outputs": [],
   "source": [
    "timestamp = df_truncated_missing_data.timestamp\n",
    "processed_data = {\n",
    "    'input': [],\n",
    "    'masking': []\n",
    "}\n",
    "n = len(timestamp)"
   ]
  },
  {
   "cell_type": "code",
   "execution_count": null,
   "metadata": {},
   "outputs": [],
   "source": [
    "# Convert *raw.csv to data.npz\n",
    "raw_data = load(gesture_root_folder) #TODO: Creat load() that load all csv data(clean data and make appropriate format)\n",
    "timestamp = raw_data['T_t']\n",
    "processed_data = {\n",
    "    'input' : raw_data['X_t'],\n",
    "    'masking' : raw_data['X_t_mask']\n",
    "}\n",
    "n = len(timestamp)"
   ]
  },
  {
   "cell_type": "code",
   "execution_count": null,
   "metadata": {},
   "outputs": [],
   "source": [
    "def load(path):\n",
    "    raw_data = {\n",
    "        'T_t' : [],\n",
    "        'X_t' : [],\n",
    "        'x_t_mask' : []\n",
    "    }\n",
    "    \n",
    "    return raw_data"
   ]
  }
 ],
 "metadata": {
  "kernelspec": {
   "display_name": "Python 3",
   "language": "python",
   "name": "python3"
  },
  "language_info": {
   "codemirror_mode": {
    "name": "ipython",
    "version": 3
   },
   "file_extension": ".py",
   "mimetype": "text/x-python",
   "name": "python",
   "nbconvert_exporter": "python",
   "pygments_lexer": "ipython3",
   "version": "3.7.3"
  }
 },
 "nbformat": 4,
 "nbformat_minor": 2
}
