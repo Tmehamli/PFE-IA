{
 "cells": [
  {
   "cell_type": "markdown",
   "metadata": {},
   "source": [
    "We use this script to process the Gesture dataset and get the input files for the GRU-D models."
   ]
  },
  {
   "cell_type": "code",
   "execution_count": 1,
   "metadata": {},
   "outputs": [],
   "source": [
    "import os \n",
    "import numpy as np\n",
    "import pandas as pd\n",
    "from python_linq import From"
   ]
  },
  {
   "cell_type": "code",
   "execution_count": 2,
   "metadata": {},
   "outputs": [],
   "source": [
    "seed = 42\n",
    "np.random.seed(seed=seed)"
   ]
  },
  {
   "cell_type": "code",
   "execution_count": 3,
   "metadata": {},
   "outputs": [
    {
     "name": "stdout",
     "output_type": "stream",
     "text": [
      "The data files will be converted and saved here:  ./data/gesture\n"
     ]
    }
   ],
   "source": [
    "gesture_root_folder = os.path.join('gesture_datas/')\n",
    "grud_working_folder = '.' # # This should be the [WD] (working directory) of the GRU-D project.\n",
    "grud_gesture_data_folder = os.path.join(grud_working_folder, 'data', 'gesture')\n",
    "if not os.path.exists(grud_gesture_data_folder):\n",
    "    os.makedirs(grud_gesture_data_folder)\n",
    "print('The data files will be converted and saved here: ', grud_gesture_data_folder)"
   ]
  },
  {
   "cell_type": "code",
   "execution_count": 4,
   "metadata": {},
   "outputs": [],
   "source": [
    "def Load_data(path):\n",
    "    all_files = os.listdir(path)\n",
    "    files_to_load = From(all_files).where(lambda file: file[-3:]=='csv').where(lambda file: file[-5]=='w').toList()\n",
    "    df_Big = pd.read_csv(path +files_to_load[0], sep=',')\n",
    "    for file in files_to_load:\n",
    "        df_file = pd.read_csv(path + file, sep=',')\n",
    "        df_Big = df_Big.append(df_file)\n",
    "    df_Big = df_Big.loc[df_Big['phase']!='Preparação']\n",
    "    return df_Big\n",
    "dataframe = Load_data(gesture_root_folder)"
   ]
  },
  {
   "cell_type": "code",
   "execution_count": 5,
   "metadata": {},
   "outputs": [],
   "source": [
    "def Truncate(df):\n",
    "    k = 0\n",
    "    nb_rows = df.shape[0]\n",
    "    df_to_fill = pd.DataFrame(columns=df.columns.values.tolist())\n",
    "    while k < nb_rows:    \n",
    "        row_considered = df.iloc[[k]]\n",
    "        phase_considered = row_considered['phase'].values.tolist()[0]\n",
    "        phase_tmp = phase_considered\n",
    "        #print(phase_considered)\n",
    "        #print(phase_tmp)\n",
    "        i = 0\n",
    "        while phase_tmp == phase_considered and i<30:\n",
    "            if k + i + 1 < nb_rows:\n",
    "                # Verifying if there is a next value\n",
    "                i += 1\n",
    "                phase_tmp = df.iloc[[i+k]]['phase'].values.tolist()[0]\n",
    "            else:\n",
    "                # End of while\n",
    "                break\n",
    "        if i > 7:\n",
    "            # Add the row considered            \n",
    "            df_to_fill = df_to_fill.append(row_considered)            \n",
    "        if k + i + 1 < nb_rows:\n",
    "            k += i\n",
    "        else:\n",
    "            # End of the dataframe\n",
    "            break\n",
    "    df_to_fill = df_to_fill.reset_index(drop=True)\n",
    "    return df_to_fill\n",
    "df_truncated = Truncate(dataframe)"
   ]
  },
  {
   "cell_type": "code",
   "execution_count": 6,
   "metadata": {},
   "outputs": [],
   "source": [
    "def Creat_missing_values(df, nb_rows_to_del=1):\n",
    "    nb_rows = df.shape[0]\n",
    "    nb_columns = df.shape[1]\n",
    "    index_still = np.arange(nb_rows)\n",
    "    df_copy = df.copy()\n",
    "    if nb_rows_to_del < nb_rows:\n",
    "        while nb_rows-len(index_still)<nb_rows_to_del:\n",
    "            index_del = np.random.randint(len(index_still)-1)\n",
    "            timestamp_saved = df.iloc[index_del].__getitem__('timestamp')\n",
    "            df_copy.iloc[index_del] = [np.nan for i in range(nb_columns)]\n",
    "            df_copy.loc[index_del, 'timestamp'] = timestamp_saved\n",
    "            index_still = np.delete(index_still,index_del)\n",
    "    return df_copy\n",
    "df_truncated_missing_data = Creat_missing_values(df_truncated)"
   ]
  },
  {
   "cell_type": "code",
   "execution_count": 7,
   "metadata": {},
   "outputs": [],
   "source": [
    "def Creat_mask(df):\n",
    "    mask = df_truncated_missing_data.copy()\n",
    "    mask = mask.where(mask.isnull(),1)\n",
    "    mask = mask.where(mask.isnull()!=True,0)\n",
    "    return mask\n",
    "Mask = Creat_mask(df_truncated_missing_data)"
   ]
  },
  {
   "cell_type": "code",
   "execution_count": 8,
   "metadata": {},
   "outputs": [
    {
     "data": {
      "text/plain": [
       "array([[5.347435, 4.363681, 1.501913, ..., 5.553945, 4.370456, 1.553521],\n",
       "       [5.17276 , 4.29817 , 1.539378, ..., 5.101995, 4.275612, 1.545337],\n",
       "       [4.900373, 4.314654, 1.532006, ..., 5.195107, 4.343143, 1.542306],\n",
       "       ...,\n",
       "       [2.020312, 4.206409, 2.098202, ..., 3.19627 , 3.894011, 2.259658],\n",
       "       [2.066605, 4.205699, 2.088519, ..., 3.289339, 3.917616, 2.255383],\n",
       "       [1.775075, 4.861233, 2.234605, ..., 3.33368 , 4.413923, 2.293885]])"
      ]
     },
     "execution_count": 8,
     "metadata": {},
     "output_type": "execute_result"
    }
   ],
   "source": [
    "df_truncated_missing_data.loc[:,'lhx':'rwz'].values\n"
   ]
  },
  {
   "cell_type": "code",
   "execution_count": 9,
   "metadata": {},
   "outputs": [],
   "source": [
    "timestamp = df_truncated_missing_data.timestamp\n",
    "processed_data = {\n",
    "    'input': df_truncated_missing_data.loc[:,'lhx':'rwz'].values,\n",
    "    'masking': Mask\n",
    "}\n",
    "n = len(timestamp)"
   ]
  },
  {
   "cell_type": "code",
   "execution_count": 10,
   "metadata": {},
   "outputs": [],
   "source": [
    "# process label\n",
    "phase = ['Rest', 'Preparation', 'Hold', 'Stroke', 'Retraction']\n",
    "processed_label = {\n",
    "    'label_phase': phase\n",
    "}"
   ]
  },
  {
   "cell_type": "code",
   "execution_count": 11,
   "metadata": {},
   "outputs": [],
   "source": [
    "np.savez_compressed(os.path.join(grud_gesture_data_folder, 'data.npz'), timestamp=timestamp, **processed_data, **processed_label)"
   ]
  },
  {
   "cell_type": "code",
   "execution_count": 12,
   "metadata": {},
   "outputs": [],
   "source": [
    "from sklearn.model_selection import train_test_split, KFold, TimeSeriesSplit\n",
    "from sklearn.preprocessing import StandardScaler\n",
    "#https://scikit-learn.org/stable/modules/cross_validation.html#cross-validation-of-time-series-data"
   ]
  },
  {
   "cell_type": "code",
   "execution_count": 33,
   "metadata": {},
   "outputs": [
    {
     "name": "stdout",
     "output_type": "stream",
     "text": [
      "2\n",
      "[[3.346799 2.259089 1.637492 ... 6.801356 1.902031 1.71084 ]\n",
      " [5.235381 3.599986 1.471026 ... 4.911345 3.791246 1.513937]\n",
      " [5.551727 4.258776 1.515576 ... 5.477768 4.145972 1.523574]\n",
      " ...\n",
      " [2.431286 3.679767 1.906436 ... 3.67384  2.37312  2.261567]\n",
      " [2.187767 3.539126 1.935147 ... 3.882411 2.075931 2.243435]\n",
      " [1.443359 5.224425 2.047259 ... 3.75924  4.946609 2.183301]]\n"
     ]
    }
   ],
   "source": [
    "# https://stackoverflow.com/questions/45115964/separate-pandas-dataframe-using-sklearns-kfold\n",
    "#added some parameters\n",
    "#kf = KFold(n_splits = 5, shuffle = False, random_state = 2)\n",
    "ts = TimeSeriesSplit(n_splits=5)\n",
    "result = next(ts.split(processed_data['input']), None)\n",
    "print (len(result))\n",
    "#(array([0, 2, 3, 5, 6, 7, 8, 9]), array([1, 4]))\n",
    "\n",
    "train = processed_data['input'][result[1]]\n",
    "\n",
    "test =  processed_data['input'][result[1]]\n",
    "\n",
    "#print(\"train: \" + train)\n",
    "#print(\"test: \" + test)"
   ]
  },
  {
   "cell_type": "code",
   "execution_count": null,
   "metadata": {},
   "outputs": [],
   "source": [
    "#kf = TimeSeriesSplit(n_splits=2)\n",
    "#for train, test in kf.split(processed_data['input']):\n",
    "     #print(\"train:%s \\ntest:%s\" % (train, test))"
   ]
  },
  {
   "cell_type": "code",
   "execution_count": null,
   "metadata": {},
   "outputs": [],
   "source": []
  },
  {
   "cell_type": "code",
   "execution_count": null,
   "metadata": {},
   "outputs": [],
   "source": [
    "#x_train, x_test, y_train, y_test = train_test_split(x, y, test_size=.25)"
   ]
  },
  {
   "cell_type": "code",
   "execution_count": null,
   "metadata": {},
   "outputs": [],
   "source": [
    "#processed_fold = {\n",
    "#    'fold_phase': fold_data['folds_ep_pha'][0][0]    \n",
    "#}"
   ]
  },
  {
   "cell_type": "code",
   "execution_count": null,
   "metadata": {},
   "outputs": [],
   "source": [
    "#np.savez_compressed(os.path.join(grud_gesture_data_folder, 'fold.npz'), **processed_fold)"
   ]
  }
 ],
 "metadata": {
  "kernelspec": {
   "display_name": "Python 3",
   "language": "python",
   "name": "python3"
  },
  "language_info": {
   "codemirror_mode": {
    "name": "ipython",
    "version": 3
   },
   "file_extension": ".py",
   "mimetype": "text/x-python",
   "name": "python",
   "nbconvert_exporter": "python",
   "pygments_lexer": "ipython3",
   "version": "3.7.3"
  }
 },
 "nbformat": 4,
 "nbformat_minor": 2
}
