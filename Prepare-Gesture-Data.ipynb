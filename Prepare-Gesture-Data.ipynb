{
 "cells": [
  {
   "cell_type": "markdown",
   "metadata": {},
   "source": [
    "We use this script to process the Gesture dataset and get the input files for the GRU-D models."
   ]
  },
  {
   "cell_type": "code",
   "execution_count": 1,
   "metadata": {},
   "outputs": [],
   "source": [
    "import os \n",
    "import numpy as np\n",
    "import pandas as pd\n",
    "from python_linq import From"
   ]
  },
  {
   "cell_type": "code",
   "execution_count": 2,
   "metadata": {},
   "outputs": [],
   "source": [
    "seed = 42\n",
    "np.random.seed(seed=seed)"
   ]
  },
  {
   "cell_type": "code",
   "execution_count": 3,
   "metadata": {},
   "outputs": [
    {
     "name": "stdout",
     "output_type": "stream",
     "text": [
      "The data files will be converted and saved here:  .\\data\\gesture\n"
     ]
    }
   ],
   "source": [
    "gesture_root_folder = os.path.join('gesture_datas/')\n",
    "grud_working_folder = '.' # # This should be the [WD] (working directory) of the GRU-D project.\n",
    "grud_gesture_data_folder = os.path.join(grud_working_folder, 'data', 'gesture')\n",
    "if not os.path.exists(grud_gesture_data_folder):\n",
    "    os.makedirs(grud_gesture_data_folder)\n",
    "print('The data files will be converted and saved here: ', grud_gesture_data_folder)"
   ]
  },
  {
   "cell_type": "code",
   "execution_count": 4,
   "metadata": {},
   "outputs": [],
   "source": [
    "def Load_data(path):\n",
    "    all_files = os.listdir(path)\n",
    "    files_to_load = From(all_files).where(lambda file: file[-3:]=='csv').where(lambda file: file[-5]=='w').toList()\n",
    "    df_Big = pd.read_csv(path +files_to_load[0], sep=',')\n",
    "    for file in files_to_load:\n",
    "        df_file = pd.read_csv(path + file, sep=',')\n",
    "        df_Big = df_Big.append(df_file)\n",
    "    df_Big = df_Big.loc[df_Big['phase']!='Preparação']\n",
    "    return df_Big\n",
    "dataframe = Load_data(gesture_root_folder)"
   ]
  },
  {
   "cell_type": "code",
   "execution_count": 5,
   "metadata": {},
   "outputs": [],
   "source": [
    "def Truncate(df):\n",
    "    k = 0\n",
    "    nb_rows = df.shape[0]\n",
    "    df_to_fill = pd.DataFrame(columns=df.columns.values.tolist())\n",
    "    while k < nb_rows:    \n",
    "        row_considered = df.iloc[[k]]\n",
    "        phase_considered = row_considered['phase'].values.tolist()[0]\n",
    "        phase_tmp = phase_considered\n",
    "        #print(phase_considered)\n",
    "        #print(phase_tmp)\n",
    "        i = 0\n",
    "        while phase_tmp == phase_considered and i<30:\n",
    "            if k + i + 1 < nb_rows:\n",
    "                # Verifying if there is a next value\n",
    "                i += 1\n",
    "                phase_tmp = df.iloc[[i+k]]['phase'].values.tolist()[0]\n",
    "            else:\n",
    "                # End of while\n",
    "                break\n",
    "        if i > 7:\n",
    "            # Add the row considered            \n",
    "            df_to_fill = df_to_fill.append(row_considered)            \n",
    "        if k + i + 1 < nb_rows:\n",
    "            k += i\n",
    "        else:\n",
    "            # End of the dataframe\n",
    "            break\n",
    "    df_to_fill = df_to_fill.reset_index(drop=True)\n",
    "    return df_to_fill\n",
    "df_truncated = Truncate(dataframe)"
   ]
  },
  {
   "cell_type": "code",
   "execution_count": 6,
   "metadata": {},
   "outputs": [],
   "source": [
    "def Creat_missing_values(df, nb_rows_to_del=1):\n",
    "    nb_rows = df.shape[0]\n",
    "    nb_columns = df.shape[1]\n",
    "    index_still = np.arange(nb_rows)\n",
    "    df_copy = df.copy()\n",
    "    if nb_rows_to_del < nb_rows:\n",
    "        while nb_rows-len(index_still)<nb_rows_to_del:\n",
    "            index_del = np.random.randint(len(index_still)-1)\n",
    "            timestamp_saved = df.iloc[index_del].__getitem__('timestamp')\n",
    "            df_copy.iloc[index_del] = [np.nan for i in range(nb_columns)]\n",
    "            df_copy.loc[index_del, 'timestamp'] = timestamp_saved\n",
    "            index_still = np.delete(index_still,index_del)\n",
    "    return df_copy\n",
    "df_truncated_missing_data = Creat_missing_values(df_truncated)"
   ]
  },
  {
   "cell_type": "code",
   "execution_count": 7,
   "metadata": {},
   "outputs": [],
   "source": [
    "def Creat_mask(df):\n",
    "    mask = df_truncated_missing_data.copy()\n",
    "    mask = mask.where(mask.isnull(),1)\n",
    "    mask = mask.where(mask.isnull()!=True,0)\n",
    "    return mask\n",
    "Mask = Creat_mask(df_truncated_missing_data)"
   ]
  },
  {
   "cell_type": "code",
   "execution_count": 16,
   "metadata": {},
   "outputs": [
    {
     "data": {
      "text/plain": [
       "array([[5.347435, 4.363681, 1.501913, ..., 5.553945, 4.370456, 1.553521],\n",
       "       [5.17276 , 4.29817 , 1.539378, ..., 5.101995, 4.275612, 1.545337],\n",
       "       [4.900373, 4.314654, 1.532006, ..., 5.195107, 4.343143, 1.542306],\n",
       "       ...,\n",
       "       [3.602747, 5.023941, 1.837341, ..., 5.411085, 1.416187, 1.841328],\n",
       "       [3.611109, 5.022792, 1.832637, ..., 5.370014, 1.446505, 1.81172 ],\n",
       "       [3.896576, 5.386982, 1.763772, ..., 5.238472, 4.971535, 1.822406]])"
      ]
     },
     "execution_count": 16,
     "metadata": {},
     "output_type": "execute_result"
    }
   ],
   "source": [
    "df_truncated_missing_data.loc[:,'lhx':'rwz'].values\n"
   ]
  },
  {
   "cell_type": "code",
   "execution_count": 17,
   "metadata": {},
   "outputs": [],
   "source": [
    "timestamp = df_truncated_missing_data.timestamp\n",
    "processed_data = {\n",
    "    'input': df_truncated_missing_data.loc[:,'lhx':'rwz'].values,\n",
    "    'masking': Mask\n",
    "}\n",
    "n = len(timestamp)"
   ]
  },
  {
   "cell_type": "code",
   "execution_count": 18,
   "metadata": {},
   "outputs": [],
   "source": [
    "# process label\n",
    "phase = ['Rest', 'Preparation', 'Hold', 'Stroke', 'Retraction']\n",
    "processed_label = {\n",
    "    'label_phase': phase\n",
    "}"
   ]
  },
  {
   "cell_type": "code",
   "execution_count": 19,
   "metadata": {},
   "outputs": [],
   "source": [
    "np.savez_compressed(os.path.join(grud_gesture_data_folder, 'data.npz'), timestamp=timestamp, **processed_data, **processed_label)"
   ]
  },
  {
   "cell_type": "code",
   "execution_count": 31,
   "metadata": {},
   "outputs": [],
   "source": [
    "from sklearn.model_selection import train_test_split, KFold, TimeSeriesSplit\n",
    "from sklearn.preprocessing import StandardScaler\n",
    "#https://scikit-learn.org/stable/modules/cross_validation.html#cross-validation-of-time-series-data"
   ]
  },
  {
   "cell_type": "code",
   "execution_count": 32,
   "metadata": {},
   "outputs": [
    {
     "name": "stdout",
     "output_type": "stream",
     "text": [
      "train:[  0   1   2   3   4   5   6   7   8   9  10  11  12  13  14  15  16  17\n",
      "  18  19  20  21  22  23  24  25  26  27  28  29  30  31  32  33  34  35\n",
      "  36  37  38  39  40  41  42  43  44  45  46  47  48  49  50  51  52  53\n",
      "  54  55  56  57  58  59  60  61  62  63  64  65  66  67  68  69  70  71\n",
      "  72  73  74  75  76  77  78  79  80  81  82  83  84  85  86  87  88  89\n",
      "  90  91  92  93  94  95  96  97  98  99 100 101 102 103 104 105 106 107\n",
      " 108 109 110 111 112 113 114 115 116 117 118 119 120 121 122 123 124 125\n",
      " 126 127 128 129 130 131 132 133 134 135 136 137 138 139 140 141 142 143\n",
      " 144 145 146 147 148 149 150 151 152 153 154 155 156 157 158 159 160 161\n",
      " 162 163 164 165 166 167 168 169 170 171 172 173 174 175 176 177 178 179] \n",
      "test:[180 181 182 183 184 185 186 187 188 189 190 191 192 193 194 195 196 197\n",
      " 198 199 200 201 202 203 204 205 206 207 208 209 210 211 212 213 214 215\n",
      " 216 217 218 219 220 221 222 223 224 225 226 227 228 229 230 231 232 233\n",
      " 234 235 236 237 238 239 240 241 242 243 244 245 246 247 248 249 250 251\n",
      " 252 253 254 255 256 257 258 259 260 261 262 263 264 265 266 267 268 269\n",
      " 270 271 272 273 274 275 276 277 278 279 280 281 282 283 284 285 286 287\n",
      " 288 289 290 291 292 293 294 295 296 297 298 299 300 301 302 303 304 305\n",
      " 306 307 308 309 310 311 312 313 314 315 316 317 318 319 320 321 322 323\n",
      " 324 325 326 327 328 329 330 331 332 333 334 335 336 337 338 339 340 341\n",
      " 342 343 344 345 346 347 348 349 350 351 352 353 354 355 356 357 358]\n",
      "train:[  0   1   2   3   4   5   6   7   8   9  10  11  12  13  14  15  16  17\n",
      "  18  19  20  21  22  23  24  25  26  27  28  29  30  31  32  33  34  35\n",
      "  36  37  38  39  40  41  42  43  44  45  46  47  48  49  50  51  52  53\n",
      "  54  55  56  57  58  59  60  61  62  63  64  65  66  67  68  69  70  71\n",
      "  72  73  74  75  76  77  78  79  80  81  82  83  84  85  86  87  88  89\n",
      "  90  91  92  93  94  95  96  97  98  99 100 101 102 103 104 105 106 107\n",
      " 108 109 110 111 112 113 114 115 116 117 118 119 120 121 122 123 124 125\n",
      " 126 127 128 129 130 131 132 133 134 135 136 137 138 139 140 141 142 143\n",
      " 144 145 146 147 148 149 150 151 152 153 154 155 156 157 158 159 160 161\n",
      " 162 163 164 165 166 167 168 169 170 171 172 173 174 175 176 177 178 179\n",
      " 180 181 182 183 184 185 186 187 188 189 190 191 192 193 194 195 196 197\n",
      " 198 199 200 201 202 203 204 205 206 207 208 209 210 211 212 213 214 215\n",
      " 216 217 218 219 220 221 222 223 224 225 226 227 228 229 230 231 232 233\n",
      " 234 235 236 237 238 239 240 241 242 243 244 245 246 247 248 249 250 251\n",
      " 252 253 254 255 256 257 258 259 260 261 262 263 264 265 266 267 268 269\n",
      " 270 271 272 273 274 275 276 277 278 279 280 281 282 283 284 285 286 287\n",
      " 288 289 290 291 292 293 294 295 296 297 298 299 300 301 302 303 304 305\n",
      " 306 307 308 309 310 311 312 313 314 315 316 317 318 319 320 321 322 323\n",
      " 324 325 326 327 328 329 330 331 332 333 334 335 336 337 338 339 340 341\n",
      " 342 343 344 345 346 347 348 349 350 351 352 353 354 355 356 357 358] \n",
      "test:[359 360 361 362 363 364 365 366 367 368 369 370 371 372 373 374 375 376\n",
      " 377 378 379 380 381 382 383 384 385 386 387 388 389 390 391 392 393 394\n",
      " 395 396 397 398 399 400 401 402 403 404 405 406 407 408 409 410 411 412\n",
      " 413 414 415 416 417 418 419 420 421 422 423 424 425 426 427 428 429 430\n",
      " 431 432 433 434 435 436 437 438 439 440 441 442 443 444 445 446 447 448\n",
      " 449 450 451 452 453 454 455 456 457 458 459 460 461 462 463 464 465 466\n",
      " 467 468 469 470 471 472 473 474 475 476 477 478 479 480 481 482 483 484\n",
      " 485 486 487 488 489 490 491 492 493 494 495 496 497 498 499 500 501 502\n",
      " 503 504 505 506 507 508 509 510 511 512 513 514 515 516 517 518 519 520\n",
      " 521 522 523 524 525 526 527 528 529 530 531 532 533 534 535 536 537]\n"
     ]
    }
   ],
   "source": [
    "kf = TimeSeriesSplit(n_splits=2)\n",
    "for train, test in kf.split(processed_data['input']):\n",
    "     print(\"train:%s \\ntest:%s\" % (train, test))"
   ]
  },
  {
   "cell_type": "code",
   "execution_count": null,
   "metadata": {},
   "outputs": [],
   "source": [
    "#x_train, x_test, y_train, y_test = train_test_split(x, y, test_size=.25)"
   ]
  },
  {
   "cell_type": "code",
   "execution_count": null,
   "metadata": {},
   "outputs": [],
   "source": [
    "#processed_fold = {\n",
    "#    'fold_phase': fold_data['folds_ep_pha'][0][0]    \n",
    "#}"
   ]
  },
  {
   "cell_type": "code",
   "execution_count": null,
   "metadata": {},
   "outputs": [],
   "source": [
    "#np.savez_compressed(os.path.join(grud_gesture_data_folder, 'fold.npz'), **processed_fold)"
   ]
  }
 ],
 "metadata": {
  "kernelspec": {
   "display_name": "Python 3",
   "language": "python",
   "name": "python3"
  },
  "language_info": {
   "codemirror_mode": {
    "name": "ipython",
    "version": 3
   },
   "file_extension": ".py",
   "mimetype": "text/x-python",
   "name": "python",
   "nbconvert_exporter": "python",
   "pygments_lexer": "ipython3",
   "version": "3.7.3"
  }
 },
 "nbformat": 4,
 "nbformat_minor": 2
}
