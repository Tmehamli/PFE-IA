{
 "cells": [
  {
   "cell_type": "code",
   "execution_count": 1,
   "metadata": {
    "scrolled": false
   },
   "outputs": [
    {
     "name": "stderr",
     "output_type": "stream",
     "text": [
      "Using TensorFlow backend.\n"
     ]
    }
   ],
   "source": [
    "from __future__ import absolute_import, division, print_function\n",
    "\n",
    "import argparse\n",
    "from datetime import datetime\n",
    "import numpy as np\n",
    "import os\n",
    "\n",
    "from keras import backend as K\n",
    "from keras.callbacks import EarlyStopping, TensorBoard\n",
    "import numpy as np\n",
    "from sklearn.metrics import roc_auc_score\n",
    "\n",
    "from data_handler_gesture_2 import DataHandler\n",
    "#from data_handler import DataHandler\n",
    "from models import create_grud_model, load_grud_model\n",
    "from nn_utils.callbacks import ModelCheckpointwithBestWeights\n"
   ]
  },
  {
   "cell_type": "code",
   "execution_count": 2,
   "metadata": {},
   "outputs": [],
   "source": [
    "# set GPU usage for tensorflow backend\n",
    "if K.backend() == 'tensorflow':\n",
    "    import tensorflow as tf\n",
    "    config = tf.ConfigProto()\n",
    "    config.gpu_options.per_process_gpu_memory_fraction = .1\n",
    "    config.gpu_options.allow_growth = True\n",
    "    K.set_session(tf.Session(config=config))"
   ]
  },
  {
   "cell_type": "code",
   "execution_count": 3,
   "metadata": {},
   "outputs": [
    {
     "name": "stdout",
     "output_type": "stream",
     "text": [
      "Arguments: Namespace(batch_size=2, dataset_name='gesture', early_stopping_patience=10, epochs=100, hidden_dim=[], label_name='phase', max_timestamp=5807537, max_timesteps=200, model='GRUD', pretrained_model_file=None, recurrent_dim=[64], use_bidirectional_rnn=False, working_path='.')\n"
     ]
    }
   ],
   "source": [
    "# parse arguments\n",
    "## general\n",
    "arg_parser = argparse.ArgumentParser()\n",
    "arg_parser.add_argument('--working_path', default='.')\n",
    "\n",
    "## data\n",
    "arg_parser.add_argument('dataset_name', default='mimic3',\n",
    "                        help='The data files should be saved in [working_path]/data/[dataset_name] directory.')\n",
    "arg_parser.add_argument('label_name', default='mortality')\n",
    "arg_parser.add_argument('--max_timesteps', type=int, default=200, \n",
    "                        help='Time series of at most # time steps are used. Default: 200.')\n",
    "arg_parser.add_argument('--max_timestamp', type=int, default=48*60*60,\n",
    "                        help='Time series of at most # seconds are used. Default: 48 (hours).')\n",
    "\n",
    "## model\n",
    "arg_parser.add_argument('--recurrent_dim', type=lambda x: x and [int(xx) for xx in x.split(',')] or [], default='64')\n",
    "arg_parser.add_argument('--hidden_dim', type=lambda x: x and [int(xx) for xx in x.split(',')] or [], default='64')\n",
    "arg_parser.add_argument('--model', default='GRUD', choices=['GRUD', 'GRUforward', 'GRU0', 'GRUsimple'])\n",
    "arg_parser.add_argument('--use_bidirectional_rnn', default=False)\n",
    "                           \n",
    "## training\n",
    "arg_parser.add_argument('--pretrained_model_file', default=None,\n",
    "                        help='If pre-trained model is provided, training will be skipped.') # e.g., [model_name]_[i_fold].h5\n",
    "arg_parser.add_argument('--epochs', type=int, default=100)\n",
    "arg_parser.add_argument('--early_stopping_patience', type=int, default=10)\n",
    "arg_parser.add_argument('--batch_size', type=int, default=2)\n",
    "\n",
    "\n",
    "## set the actual arguments if running in notebook\n",
    "if not (__name__ == '__main__' and '__file__' in globals()):\n",
    "    '''ARGS = arg_parser.parse_args([\n",
    "        'mimic3',\n",
    "        'mortality',\n",
    "        '--model', 'GRUD',\n",
    "        '--hidden_dim', '',\n",
    "        '--epochs', '100'\n",
    "    ])'''\n",
    "    ARGS = arg_parser.parse_args([\n",
    "        'gesture',\n",
    "        'phase',\n",
    "        '--model', 'GRUD',\n",
    "        '--hidden_dim', '',\n",
    "        '--max_timestamp', '5807537',\n",
    "        '--epochs', '100'\n",
    "    ])\n",
    "else:\n",
    "    ARGS = arg_parser.parse_args()\n",
    "\n",
    "print('Arguments:', ARGS)"
   ]
  },
  {
   "cell_type": "code",
   "execution_count": 4,
   "metadata": {},
   "outputs": [
    {
     "name": "stdout",
     "output_type": "stream",
     "text": [
      "phase\n"
     ]
    }
   ],
   "source": [
    "print(ARGS.label_name)"
   ]
  },
  {
   "cell_type": "code",
   "execution_count": 5,
   "metadata": {},
   "outputs": [
    {
     "name": "stdout",
     "output_type": "stream",
     "text": [
      "gesture\n"
     ]
    }
   ],
   "source": [
    "print(ARGS.dataset_name)"
   ]
  },
  {
   "cell_type": "code",
   "execution_count": 6,
   "metadata": {},
   "outputs": [
    {
     "name": "stdout",
     "output_type": "stream",
     "text": [
      "self._data['fold'].shape:(7, 5, 3)\n"
     ]
    }
   ],
   "source": [
    "# get dataset\n",
    "\n",
    "dataset = DataHandler(\n",
    "    data_path=os.path.join(ARGS.working_path, 'data', ARGS.dataset_name), \n",
    "    label_name=ARGS.label_name, \n",
    "    max_steps=ARGS.max_timesteps,\n",
    "    max_timestamp=ARGS.max_timestamp\n",
    ")"
   ]
  },
  {
   "cell_type": "code",
   "execution_count": 7,
   "metadata": {
    "scrolled": false
   },
   "outputs": [
    {
     "name": "stdout",
     "output_type": "stream",
     "text": [
      "Timestamp: 20200110_005759_321586\n",
      "0-th fold...\n",
      "__________________________________________________________________________________________________\n",
      "Layer (type)                    Output Shape         Param #     Connected to                     \n",
      "==================================================================================================\n",
      "input_1 (InputLayer)            (None, None, 18)     0                                            \n",
      "__________________________________________________________________________________________________\n",
      "input_2 (InputLayer)            (None, None, 18)     0                                            \n",
      "__________________________________________________________________________________________________\n",
      "input_3 (InputLayer)            (None, None, 1)      0                                            \n",
      "__________________________________________________________________________________________________\n",
      "external_masking_1 (ExternalMas (None, None, 18)     0           input_1[0][0]                    \n",
      "                                                                 input_2[0][0]                    \n",
      "__________________________________________________________________________________________________\n",
      "masking_1 (Masking)             (None, None, 18)     0           input_2[0][0]                    \n",
      "__________________________________________________________________________________________________\n",
      "external_masking_2 (ExternalMas (None, None, 1)      0           input_3[0][0]                    \n",
      "                                                                 input_2[0][0]                    \n",
      "__________________________________________________________________________________________________\n",
      "grud_1 (GRUD)                   (None, 64)           20644       external_masking_1[0][0]         \n",
      "                                                                 masking_1[0][0]                  \n",
      "                                                                 external_masking_2[0][0]         \n",
      "__________________________________________________________________________________________________\n",
      "dropout_1 (Dropout)             (None, 64)           0           grud_1[0][0]                     \n",
      "__________________________________________________________________________________________________\n",
      "dense_1 (Dense)                 (None, 1)            65          dropout_1[0][0]                  \n",
      "==================================================================================================\n",
      "Total params: 20,709\n",
      "Trainable params: 20,709\n",
      "Non-trainable params: 0\n",
      "__________________________________________________________________________________________________\n",
      "Epoch 1/100\n",
      "i:0,i_fold:0,(8,)\n",
      "['Rest' 'Preparation' 'Stroke' 'Stroke' 'Preparation' 'Stroke'\n",
      " 'Retraction' 'Rest']\n",
      "i:0,i_fold:0,(8,)\n",
      "['Rest' 'Preparation' 'Stroke' 'Stroke' 'Preparation' 'Stroke'\n",
      " 'Retraction' 'Rest']\n",
      "i:0,i_fold:0,(8,)\n",
      "['Rest' 'Preparation' 'Stroke' 'Stroke' 'Preparation' 'Stroke'\n",
      " 'Retraction' 'Rest']\n",
      "i:0,i_fold:0,(8,)\n",
      "['Rest' 'Preparation' 'Stroke' 'Stroke' 'Preparation' 'Stroke'\n",
      " 'Retraction' 'Rest']\n",
      "i:0,i_fold:0,(9,)\n",
      "['Rest' 'Preparation' 'Stroke' 'Stroke' 'Preparation' 'Stroke'\n",
      " 'Retraction' 'Rest' 'Preparation']\n",
      "i:0,i_fold:0,(8,)\n",
      "['Rest' 'Preparation' 'Stroke' 'Stroke' 'Preparation' 'Stroke'\n",
      " 'Retraction' 'Rest']\n"
     ]
    },
    {
     "ename": "ValueError",
     "evalue": "Error when checking model target: the list of Numpy arrays that you are passing to your model is not the size the model expected. Expected to see 1 array(s), but instead got the following list of 7 arrays: [array([['Rest'],\n       ['Preparation'],\n       ['Stroke'],\n       ['Stroke'],\n       ['Preparation'],\n       ['Stroke'],\n       ['Retraction'],\n       ['Rest']], dtype=object), array([['Rest'],\n    ...",
     "output_type": "error",
     "traceback": [
      "\u001b[0;31m---------------------------------------------------------------------------\u001b[0m",
      "\u001b[0;31mValueError\u001b[0m                                Traceback (most recent call last)",
      "\u001b[0;32m<ipython-input-7-14b3b6ad55c9>\u001b[0m in \u001b[0;36m<module>\u001b[0;34m\u001b[0m\n\u001b[1;32m     38\u001b[0m                 ),\n\u001b[1;32m     39\u001b[0m                 TensorBoard(\n\u001b[0;32m---> 40\u001b[0;31m                     \u001b[0mlog_dir\u001b[0m\u001b[0;34m=\u001b[0m\u001b[0mos\u001b[0m\u001b[0;34m.\u001b[0m\u001b[0mpath\u001b[0m\u001b[0;34m.\u001b[0m\u001b[0mjoin\u001b[0m\u001b[0;34m(\u001b[0m\u001b[0mARGS\u001b[0m\u001b[0;34m.\u001b[0m\u001b[0mworking_path\u001b[0m\u001b[0;34m,\u001b[0m \u001b[0;34m'tb_logs'\u001b[0m\u001b[0;34m,\u001b[0m \u001b[0mtimestamp\u001b[0m \u001b[0;34m+\u001b[0m \u001b[0;34m'_'\u001b[0m \u001b[0;34m+\u001b[0m \u001b[0mstr\u001b[0m\u001b[0;34m(\u001b[0m\u001b[0mi_fold\u001b[0m\u001b[0;34m)\u001b[0m\u001b[0;34m)\u001b[0m\u001b[0;34m\u001b[0m\u001b[0;34m\u001b[0m\u001b[0m\n\u001b[0m\u001b[1;32m     41\u001b[0m                 )\n\u001b[1;32m     42\u001b[0m             ]\n",
      "\u001b[0;32m~/anaconda3/envs/pfe-ia/lib/python3.6/site-packages/keras/legacy/interfaces.py\u001b[0m in \u001b[0;36mwrapper\u001b[0;34m(*args, **kwargs)\u001b[0m\n\u001b[1;32m     89\u001b[0m                 warnings.warn('Update your `' + object_name +\n\u001b[1;32m     90\u001b[0m                               '` call to the Keras 2 API: ' + signature, stacklevel=2)\n\u001b[0;32m---> 91\u001b[0;31m             \u001b[0;32mreturn\u001b[0m \u001b[0mfunc\u001b[0m\u001b[0;34m(\u001b[0m\u001b[0;34m*\u001b[0m\u001b[0margs\u001b[0m\u001b[0;34m,\u001b[0m \u001b[0;34m**\u001b[0m\u001b[0mkwargs\u001b[0m\u001b[0;34m)\u001b[0m\u001b[0;34m\u001b[0m\u001b[0;34m\u001b[0m\u001b[0m\n\u001b[0m\u001b[1;32m     92\u001b[0m         \u001b[0mwrapper\u001b[0m\u001b[0;34m.\u001b[0m\u001b[0m_original_function\u001b[0m \u001b[0;34m=\u001b[0m \u001b[0mfunc\u001b[0m\u001b[0;34m\u001b[0m\u001b[0;34m\u001b[0m\u001b[0m\n\u001b[1;32m     93\u001b[0m         \u001b[0;32mreturn\u001b[0m \u001b[0mwrapper\u001b[0m\u001b[0;34m\u001b[0m\u001b[0;34m\u001b[0m\u001b[0m\n",
      "\u001b[0;32m~/anaconda3/envs/pfe-ia/lib/python3.6/site-packages/keras/engine/training.py\u001b[0m in \u001b[0;36mfit_generator\u001b[0;34m(self, generator, steps_per_epoch, epochs, verbose, callbacks, validation_data, validation_steps, class_weight, max_queue_size, workers, use_multiprocessing, shuffle, initial_epoch)\u001b[0m\n\u001b[1;32m   1424\u001b[0m             \u001b[0muse_multiprocessing\u001b[0m\u001b[0;34m=\u001b[0m\u001b[0muse_multiprocessing\u001b[0m\u001b[0;34m,\u001b[0m\u001b[0;34m\u001b[0m\u001b[0;34m\u001b[0m\u001b[0m\n\u001b[1;32m   1425\u001b[0m             \u001b[0mshuffle\u001b[0m\u001b[0;34m=\u001b[0m\u001b[0mshuffle\u001b[0m\u001b[0;34m,\u001b[0m\u001b[0;34m\u001b[0m\u001b[0;34m\u001b[0m\u001b[0m\n\u001b[0;32m-> 1426\u001b[0;31m             initial_epoch=initial_epoch)\n\u001b[0m\u001b[1;32m   1427\u001b[0m \u001b[0;34m\u001b[0m\u001b[0m\n\u001b[1;32m   1428\u001b[0m     \u001b[0;34m@\u001b[0m\u001b[0minterfaces\u001b[0m\u001b[0;34m.\u001b[0m\u001b[0mlegacy_generator_methods_support\u001b[0m\u001b[0;34m\u001b[0m\u001b[0;34m\u001b[0m\u001b[0m\n",
      "\u001b[0;32m~/anaconda3/envs/pfe-ia/lib/python3.6/site-packages/keras/engine/training_generator.py\u001b[0m in \u001b[0;36mfit_generator\u001b[0;34m(model, generator, steps_per_epoch, epochs, verbose, callbacks, validation_data, validation_steps, class_weight, max_queue_size, workers, use_multiprocessing, shuffle, initial_epoch)\u001b[0m\n\u001b[1;32m    189\u001b[0m                 outs = model.train_on_batch(x, y,\n\u001b[1;32m    190\u001b[0m                                             \u001b[0msample_weight\u001b[0m\u001b[0;34m=\u001b[0m\u001b[0msample_weight\u001b[0m\u001b[0;34m,\u001b[0m\u001b[0;34m\u001b[0m\u001b[0;34m\u001b[0m\u001b[0m\n\u001b[0;32m--> 191\u001b[0;31m                                             class_weight=class_weight)\n\u001b[0m\u001b[1;32m    192\u001b[0m \u001b[0;34m\u001b[0m\u001b[0m\n\u001b[1;32m    193\u001b[0m                 \u001b[0;32mif\u001b[0m \u001b[0;32mnot\u001b[0m \u001b[0misinstance\u001b[0m\u001b[0;34m(\u001b[0m\u001b[0mouts\u001b[0m\u001b[0;34m,\u001b[0m \u001b[0mlist\u001b[0m\u001b[0;34m)\u001b[0m\u001b[0;34m:\u001b[0m\u001b[0;34m\u001b[0m\u001b[0;34m\u001b[0m\u001b[0m\n",
      "\u001b[0;32m~/anaconda3/envs/pfe-ia/lib/python3.6/site-packages/keras/engine/training.py\u001b[0m in \u001b[0;36mtrain_on_batch\u001b[0;34m(self, x, y, sample_weight, class_weight)\u001b[0m\n\u001b[1;32m   1212\u001b[0m             \u001b[0mx\u001b[0m\u001b[0;34m,\u001b[0m \u001b[0my\u001b[0m\u001b[0;34m,\u001b[0m\u001b[0;34m\u001b[0m\u001b[0;34m\u001b[0m\u001b[0m\n\u001b[1;32m   1213\u001b[0m             \u001b[0msample_weight\u001b[0m\u001b[0;34m=\u001b[0m\u001b[0msample_weight\u001b[0m\u001b[0;34m,\u001b[0m\u001b[0;34m\u001b[0m\u001b[0;34m\u001b[0m\u001b[0m\n\u001b[0;32m-> 1214\u001b[0;31m             class_weight=class_weight)\n\u001b[0m\u001b[1;32m   1215\u001b[0m         \u001b[0;32mif\u001b[0m \u001b[0mself\u001b[0m\u001b[0;34m.\u001b[0m\u001b[0m_uses_dynamic_learning_phase\u001b[0m\u001b[0;34m(\u001b[0m\u001b[0;34m)\u001b[0m\u001b[0;34m:\u001b[0m\u001b[0;34m\u001b[0m\u001b[0;34m\u001b[0m\u001b[0m\n\u001b[1;32m   1216\u001b[0m             \u001b[0mins\u001b[0m \u001b[0;34m=\u001b[0m \u001b[0mx\u001b[0m \u001b[0;34m+\u001b[0m \u001b[0my\u001b[0m \u001b[0;34m+\u001b[0m \u001b[0msample_weights\u001b[0m \u001b[0;34m+\u001b[0m \u001b[0;34m[\u001b[0m\u001b[0;36m1.\u001b[0m\u001b[0;34m]\u001b[0m\u001b[0;34m\u001b[0m\u001b[0;34m\u001b[0m\u001b[0m\n",
      "\u001b[0;32m~/anaconda3/envs/pfe-ia/lib/python3.6/site-packages/keras/engine/training.py\u001b[0m in \u001b[0;36m_standardize_user_data\u001b[0;34m(self, x, y, sample_weight, class_weight, check_array_lengths, batch_size)\u001b[0m\n\u001b[1;32m    790\u001b[0m                 \u001b[0mfeed_output_shapes\u001b[0m\u001b[0;34m,\u001b[0m\u001b[0;34m\u001b[0m\u001b[0;34m\u001b[0m\u001b[0m\n\u001b[1;32m    791\u001b[0m                 \u001b[0mcheck_batch_axis\u001b[0m\u001b[0;34m=\u001b[0m\u001b[0;32mFalse\u001b[0m\u001b[0;34m,\u001b[0m  \u001b[0;31m# Don't enforce the batch size.\u001b[0m\u001b[0;34m\u001b[0m\u001b[0;34m\u001b[0m\u001b[0m\n\u001b[0;32m--> 792\u001b[0;31m                 exception_prefix='target')\n\u001b[0m\u001b[1;32m    793\u001b[0m \u001b[0;34m\u001b[0m\u001b[0m\n\u001b[1;32m    794\u001b[0m             \u001b[0;31m# Generate sample-wise weight values given the `sample_weight` and\u001b[0m\u001b[0;34m\u001b[0m\u001b[0;34m\u001b[0m\u001b[0;34m\u001b[0m\u001b[0m\n",
      "\u001b[0;32m~/anaconda3/envs/pfe-ia/lib/python3.6/site-packages/keras/engine/training_utils.py\u001b[0m in \u001b[0;36mstandardize_input_data\u001b[0;34m(data, names, shapes, check_batch_axis, exception_prefix)\u001b[0m\n\u001b[1;32m     98\u001b[0m                 \u001b[0;34m'Expected to see '\u001b[0m \u001b[0;34m+\u001b[0m \u001b[0mstr\u001b[0m\u001b[0;34m(\u001b[0m\u001b[0mlen\u001b[0m\u001b[0;34m(\u001b[0m\u001b[0mnames\u001b[0m\u001b[0;34m)\u001b[0m\u001b[0;34m)\u001b[0m \u001b[0;34m+\u001b[0m \u001b[0;34m' array(s), '\u001b[0m\u001b[0;34m\u001b[0m\u001b[0;34m\u001b[0m\u001b[0m\n\u001b[1;32m     99\u001b[0m                 \u001b[0;34m'but instead got the following list of '\u001b[0m \u001b[0;34m+\u001b[0m\u001b[0;34m\u001b[0m\u001b[0;34m\u001b[0m\u001b[0m\n\u001b[0;32m--> 100\u001b[0;31m                 str(len(data)) + ' arrays: ' + str(data)[:200] + '...')\n\u001b[0m\u001b[1;32m    101\u001b[0m         \u001b[0;32melif\u001b[0m \u001b[0mlen\u001b[0m\u001b[0;34m(\u001b[0m\u001b[0mnames\u001b[0m\u001b[0;34m)\u001b[0m \u001b[0;34m>\u001b[0m \u001b[0;36m1\u001b[0m\u001b[0;34m:\u001b[0m\u001b[0;34m\u001b[0m\u001b[0;34m\u001b[0m\u001b[0m\n\u001b[1;32m    102\u001b[0m             raise ValueError(\n",
      "\u001b[0;31mValueError\u001b[0m: Error when checking model target: the list of Numpy arrays that you are passing to your model is not the size the model expected. Expected to see 1 array(s), but instead got the following list of 7 arrays: [array([['Rest'],\n       ['Preparation'],\n       ['Stroke'],\n       ['Stroke'],\n       ['Preparation'],\n       ['Stroke'],\n       ['Retraction'],\n       ['Rest']], dtype=object), array([['Rest'],\n    ..."
     ]
    }
   ],
   "source": [
    "# k-fold cross-validation\n",
    "pred_y_list_all = []\n",
    "auc_score_list_all = []\n",
    "\n",
    "timestamp = datetime.now().strftime('%Y%m%d_%H%M%S_%f')\n",
    "print('Timestamp: {}'.format(timestamp))\n",
    "\n",
    "for i_fold in range(dataset.folds):\n",
    "    print('{}-th fold...'.format(i_fold))\n",
    "\n",
    "    # Load or train the model.\n",
    "    if ARGS.pretrained_model_file is not None:\n",
    "        model = load_grud_model(os.path.join(ARGS.working_path, \n",
    "                                             ARGS.pretrained_model_file.format(i_fold=i_fold)))\n",
    "    else:\n",
    "        model = create_grud_model(input_dim=dataset.input_dim,\n",
    "                                  output_dim=dataset.output_dim,\n",
    "                                  output_activation=dataset.output_activation,\n",
    "                                  recurrent_dim=ARGS.recurrent_dim,\n",
    "                                  hidden_dim=ARGS.hidden_dim,\n",
    "                                  predefined_model=ARGS.model,\n",
    "                                  use_bidirectional_rnn=ARGS.use_bidirectional_rnn\n",
    "                                 )\n",
    "        if i_fold == 0:\n",
    "            model.summary()\n",
    "        model.compile(optimizer='adam', loss=dataset.loss_function)\n",
    "        model.fit_generator(\n",
    "            generator=dataset.training_generator(i_fold, batch_size=ARGS.batch_size),\n",
    "            steps_per_epoch=dataset.training_steps(i_fold, batch_size=ARGS.batch_size),\n",
    "            epochs=ARGS.epochs,\n",
    "            verbose=1,\n",
    "            validation_data=dataset.validation_generator(i_fold, batch_size=ARGS.batch_size),\n",
    "            validation_steps=dataset.validation_steps(i_fold, batch_size=ARGS.batch_size),\n",
    "            callbacks=[\n",
    "                EarlyStopping(patience=ARGS.early_stopping_patience),\n",
    "                ModelCheckpointwithBestWeights(\n",
    "                    file_dir=os.path.join(ARGS.working_path, 'model', timestamp + '_' + str(i_fold))\n",
    "                ),\n",
    "                TensorBoard(\n",
    "                    log_dir=os.path.join(ARGS.working_path, 'tb_logs', timestamp + '_' + str(i_fold))\n",
    "                )\n",
    "            ]\n",
    "            )\n",
    "        model.save(os.path.join(ARGS.working_path, 'model', \n",
    "                                timestamp + '_' + str(i_fold), 'model.h5'))\n",
    "\n",
    "    # Evaluate the model\n",
    "    true_y_list = [\n",
    "        dataset.training_y(i_fold), dataset.validation_y(i_fold), dataset.testing_y(i_fold)\n",
    "    ]\n",
    "    pred_y_list = [\n",
    "        model.predict_generator(dataset.training_generator_x(i_fold, batch_size=ARGS.batch_size),\n",
    "                                steps=dataset.training_steps(i_fold, batch_size=ARGS.batch_size)),\n",
    "        model.predict_generator(dataset.validation_generator_x(i_fold, batch_size=ARGS.batch_size),\n",
    "                                steps=dataset.validation_steps(i_fold, batch_size=ARGS.batch_size)),\n",
    "        model.predict_generator(dataset.testing_generator_x(i_fold, batch_size=ARGS.batch_size),\n",
    "                                steps=dataset.testing_steps(i_fold, batch_size=ARGS.batch_size)),\n",
    "    ]\n",
    "    auc_score_list = [roc_auc_score(ty, py) for ty, py in zip(true_y_list, pred_y_list)] # [3, n_task]\n",
    "    print('AUC score of this fold: {}'.format(auc_score_list))\n",
    "    pred_y_list_all.append(pred_y_list)\n",
    "    auc_score_list_all.append(auc_score_list)\n",
    "\n",
    "print('Finished!', '='*20)\n",
    "auc_score_list_all = np.stack(auc_score_list_all, axis=0)\n",
    "print('Mean AUC score: {}; Std AUC score: {}'.format(\n",
    "    np.mean(auc_score_list_all, axis=0),\n",
    "    np.std(auc_score_list_all, axis=0)))\n",
    "\n",
    "result_path = os.path.join(ARGS.working_path, 'results', timestamp)\n",
    "if not os.path.exists(result_path):\n",
    "    os.makedirs(result_path)\n",
    "np.savez_compressed(os.path.join(result_path, 'predictions.npz'),\n",
    "                    pred_y_list_all=pred_y_list_all)\n",
    "np.savez_compressed(os.path.join(result_path, 'auroc_score.npz'),\n",
    "                    auc_score_list_all=auc_score_list_all)\n"
   ]
  }
 ],
 "metadata": {
  "kernelspec": {
   "display_name": "Python 3",
   "language": "python",
   "name": "python3"
  },
  "language_info": {
   "codemirror_mode": {
    "name": "ipython",
    "version": 3
   },
   "file_extension": ".py",
   "mimetype": "text/x-python",
   "name": "python",
   "nbconvert_exporter": "python",
   "pygments_lexer": "ipython3",
   "version": "3.6.9"
  }
 },
 "nbformat": 4,
 "nbformat_minor": 2
}
